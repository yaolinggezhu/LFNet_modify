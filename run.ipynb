{
 "cells": [
  {
   "cell_type": "markdown",
   "metadata": {},
   "source": [
    "#  run the lfnet"
   ]
  },
  {
   "cell_type": "code",
   "execution_count": 1,
   "metadata": {
    "ExecuteTime": {
     "end_time": "2018-10-26T09:09:42.343545Z",
     "start_time": "2018-10-26T09:09:42.165052Z"
    },
    "scrolled": false
   },
   "outputs": [
    {
     "name": "stdout",
     "output_type": "stream",
     "text": [
      "env: OMP_NUM_THREADS=10\n",
      "Populating the interactive namespace from numpy and matplotlib\n"
     ]
    }
   ],
   "source": [
    "%env OMP_NUM_THREADS=10\n",
    "%pylab inline\n",
    "%load_ext autoreload\n",
    "%autoreload 2"
   ]
  },
  {
   "cell_type": "code",
   "execution_count": 2,
   "metadata": {
    "ExecuteTime": {
     "end_time": "2018-10-26T09:09:43.126591Z",
     "start_time": "2018-10-26T09:09:42.344773Z"
    }
   },
   "outputs": [
    {
     "name": "stdout",
     "output_type": "stream",
     "text": [
      "USE GPU #0 Host=multi-agent\n"
     ]
    }
   ],
   "source": [
    "from __future__ import print_function\n",
    "import os\n",
    "os.environ[\"CUDA_VISIBLE_DEVICES\"] = \"0\" \n",
    "import sys\n",
    "import numpy as np\n",
    "import tensorflow as tf\n",
    "import importlib\n",
    "import time\n",
    "import cv2\n",
    "from tqdm import tqdm\n",
    "import pickle\n",
    "\n",
    "from datasets import *\n",
    "\n",
    "from det_tools import *\n",
    "from eval_tools import draw_keypoints\n",
    "from common.tf_train_utils import get_optimizer\n",
    "from imageio import imread, imsave\n",
    "from inference import *\n",
    "import matplotlib.pylab as plt\n",
    "print('USE GPU #{} Host={}'.format(os.environ.get('CUDA_VISIBLE_DEVICES'), os.uname()[1]))"
   ]
  },
  {
   "cell_type": "code",
   "execution_count": 3,
   "metadata": {
    "ExecuteTime": {
     "end_time": "2018-10-26T09:09:43.144743Z",
     "start_time": "2018-10-26T09:09:43.127888Z"
    },
    "code_folding": []
   },
   "outputs": [],
   "source": [
    "def build_networks(config, photo,is_training):\n",
    "\n",
    "    DET = importlib.import_module(config.detector)\n",
    "    print(config.detector)\n",
    "    detector = DET.Model(config,is_training)\n",
    "\n",
    "    if config.input_inst_norm:\n",
    "        print('Apply instance norm on input photos')\n",
    "        photos1 = instance_normalization(photo)\n",
    "\n",
    "    if config.use_nms3d:\n",
    "        heatmaps, det_endpoints = build_multi_scale_deep_detector_3DNMS(config, detector, photo, reuse=False)\n",
    "    else:\n",
    "        heatmaps, det_endpoints = build_multi_scale_deep_detector(config, detector, photo, reuse=False)\n",
    "\n",
    "    # extract patches\n",
    "    kpts = det_endpoints['kpts']\n",
    "    batch_inds = det_endpoints['batch_inds']\n",
    "\n",
    "    kp_patches = build_patch_extraction(config, det_endpoints, photo)\n",
    "\n",
    "    # Descriptor\n",
    "    DESC = importlib.import_module(config.descriptor)\n",
    "    descriptor = DESC.Model(config, is_training)\n",
    "    desc_feats, desc_endpoints = build_deep_descriptor(config, descriptor, kp_patches, reuse=False) \n",
    "    # scale and orientation (extra)\n",
    "    scale_maps = det_endpoints['scale_maps']\n",
    "    ori_maps = det_endpoints['ori_maps'] # cos/sin\n",
    "    degree_maps, _ = get_degree_maps(ori_maps) # degree (rgb psuedo color code)\n",
    "    kpts_scale = det_endpoints['kpts_scale']\n",
    "    kpts_ori = det_endpoints['kpts_ori']\n",
    "    kpts_ori = tf.atan2(kpts_ori[:,1], kpts_ori[:,0]) # radian\n",
    "    print(kpts_ori)\n",
    "    \n",
    "    ops = {\n",
    "        'photo': photo,\n",
    "        'is_training': is_training,\n",
    "        'kpts': kpts,\n",
    "        'feats': desc_feats,\n",
    "        # EXTRA\n",
    "        'scale_maps': scale_maps,\n",
    "        'kpts_scale': kpts_scale,\n",
    "        'degree_maps': degree_maps,\n",
    "        'kpts_ori': kpts_ori,\n",
    "        #\"curr_in_zoe\":desc_endpoints['curr_in_zoe'],\n",
    "    }\n",
    "\n",
    "    return ops"
   ]
  },
  {
   "cell_type": "code",
   "execution_count": 4,
   "metadata": {
    "ExecuteTime": {
     "end_time": "2018-10-26T09:09:43.230693Z",
     "start_time": "2018-10-26T09:09:43.146333Z"
    }
   },
   "outputs": [],
   "source": [
    "MODEL_PATH = './models'\n",
    "if MODEL_PATH not in sys.path:\n",
    "    sys.path.append(MODEL_PATH)\n",
    "class arg:\n",
    "    def __init__(self):\n",
    "        self.num_threads = 8\n",
    "        self.in_dir = '/home/zoe/data/rgbd_dataset_freiburg1_room/rgb/'\n",
    "        self.out_dir = '/home/zoe/data/rgbd_dataset_freiburg1_room/LFNet_DBOW/'\n",
    "        self.full_output = False\n",
    "        self.model = './release/models/outdoor/'\n",
    "        self.top_k = 1000\n",
    "        self.max_longer_edge = 640\n",
    "tmp_config = arg()"
   ]
  },
  {
   "cell_type": "markdown",
   "metadata": {
    "ExecuteTime": {
     "end_time": "2018-10-07T14:52:42.509234Z",
     "start_time": "2018-10-07T14:52:42.504932Z"
    }
   },
   "source": [
    "# restore other hyperparams to build model"
   ]
  },
  {
   "cell_type": "code",
   "execution_count": 5,
   "metadata": {
    "ExecuteTime": {
     "end_time": "2018-10-26T09:09:43.293310Z",
     "start_time": "2018-10-26T09:09:43.233644Z"
    }
   },
   "outputs": [],
   "source": [
    "\n",
    "if os.path.isdir(tmp_config.model):\n",
    "    config_path = os.path.join(tmp_config.model, 'config.pkl')\n",
    "else:\n",
    "    config_path = os.path.join(os.path.dirname(tmp_config.model), 'config.pkl')\n",
    "try:\n",
    "    with open(config_path, 'rb') as f:\n",
    "        config = pickle.load(f)\n",
    "except:\n",
    "    raise ValueError('Fail to open {}'.format(config_path))\n",
    "\n",
    "for attr, dst_val in sorted(vars(tmp_config).items()):\n",
    "    if hasattr(config, attr):\n",
    "        src_val = getattr(config, attr)\n",
    "        if src_val != dst_val:\n",
    "            setattr(config, attr, dst_val)\n",
    "    else:\n",
    "        setattr(config, attr, dst_val)"
   ]
  },
  {
   "cell_type": "markdown",
   "metadata": {},
   "source": [
    "# Build Networks"
   ]
  },
  {
   "cell_type": "code",
   "execution_count": 6,
   "metadata": {
    "ExecuteTime": {
     "end_time": "2018-10-26T09:09:46.739339Z",
     "start_time": "2018-10-26T09:09:43.297601Z"
    },
    "scrolled": false
   },
   "outputs": [
    {
     "name": "stdout",
     "output_type": "stream",
     "text": [
      "mso_resnet_detector\n",
      "Act-Fn:  <function get_activation_fn.<locals>.<lambda> at 0x7fe8c69f4620>\n",
      "Apply instance norm on input photos\n",
      "Tensor(\"MSDeepDet/ConvOnlyResNet/init_conv/BiasAdd:0\", shape=(1, ?, ?, 16), dtype=float32)\n",
      "Tensor(\"MSDeepDet/ConvOnlyResNet/block-1/pre-bn/FusedBatchNorm:0\", shape=(1, ?, ?, 16), dtype=float32)\n",
      "Tensor(\"MSDeepDet/ConvOnlyResNet/block-1/conv1/BiasAdd:0\", shape=(1, ?, ?, 16), dtype=float32)\n",
      "Tensor(\"MSDeepDet/ConvOnlyResNet/block-1/mid-bn/FusedBatchNorm:0\", shape=(1, ?, ?, 16), dtype=float32)\n",
      "Tensor(\"MSDeepDet/ConvOnlyResNet/block-1/add:0\", shape=(1, ?, ?, 16), dtype=float32)\n",
      "Tensor(\"MSDeepDet/ConvOnlyResNet/block-2/pre-bn/FusedBatchNorm:0\", shape=(1, ?, ?, 16), dtype=float32)\n",
      "Tensor(\"MSDeepDet/ConvOnlyResNet/block-2/conv1/BiasAdd:0\", shape=(1, ?, ?, 16), dtype=float32)\n",
      "Tensor(\"MSDeepDet/ConvOnlyResNet/block-2/mid-bn/FusedBatchNorm:0\", shape=(1, ?, ?, 16), dtype=float32)\n",
      "Tensor(\"MSDeepDet/ConvOnlyResNet/block-2/add:0\", shape=(1, ?, ?, 16), dtype=float32)\n",
      "Tensor(\"MSDeepDet/ConvOnlyResNet/block-3/pre-bn/FusedBatchNorm:0\", shape=(1, ?, ?, 16), dtype=float32)\n",
      "Tensor(\"MSDeepDet/ConvOnlyResNet/block-3/conv1/BiasAdd:0\", shape=(1, ?, ?, 16), dtype=float32)\n",
      "Tensor(\"MSDeepDet/ConvOnlyResNet/block-3/mid-bn/FusedBatchNorm:0\", shape=(1, ?, ?, 16), dtype=float32)\n",
      "Tensor(\"MSDeepDet/ConvOnlyResNet/block-3/add:0\", shape=(1, ?, ?, 16), dtype=float32)\n",
      "Tensor(\"MSDeepDet/ConvOnlyResNet/fin-bn/FusedBatchNorm:0\", shape=(1, ?, ?, 16), dtype=float32)\n",
      "Scales (0.707107~1.41 #5): [1.41421356 1.18920712 1.         0.84089642 0.70710678]\n",
      "WARNING:tensorflow:From ./models/mso_resnet_detector.py:149: calling l2_normalize (from tensorflow.python.ops.nn_impl) with dim is deprecated and will be removed in a future version.\n",
      "Instructions for updating:\n",
      "dim is deprecated, use axis instead\n",
      "INFO:tensorflow:Summary name ConvOnlyResNet/ori_conv/weights:0 is illegal; using ConvOnlyResNet/ori_conv/weights_0 instead.\n",
      "INFO:tensorflow:Summary name ConvOnlyResNet/ori_conv/biases:0 is illegal; using ConvOnlyResNet/ori_conv/biases_0 instead.\n",
      "PAD=16, #conv=8, ksize=5 ori-ksize=5\n",
      "WARNING:tensorflow:From /home/zoe/deeplearning/lfnet/det_tools.py:1737: calling reduce_max (from tensorflow.python.ops.math_ops) with keep_dims is deprecated and will be removed in a future version.\n",
      "Instructions for updating:\n",
      "keep_dims is deprecated, use keepdims instead\n",
      "WARNING:tensorflow:From /home/zoe/deeplearning/lfnet/det_tools.py:1738: calling reduce_sum (from tensorflow.python.ops.math_ops) with keep_dims is deprecated and will be removed in a future version.\n",
      "Instructions for updating:\n",
      "keep_dims is deprecated, use keepdims instead\n",
      "1000\n",
      "kpts = Tensor(\"MSDeepDet/add_5:0\", shape=(?, 2), dtype=float32)\n",
      "kpts_ori = Tensor(\"MSDeepDet/GatherNd_1:0\", shape=(?, 2), dtype=float32)\n",
      "kpts_scale = Tensor(\"MSDeepDet/GatherNd:0\", shape=(?,), dtype=float32)\n",
      "Act-Fn:  <function relu at 0x7fe8f83b0e18>\n",
      "channels_list = [64, 128, 256]\n",
      "===== SimpleDesc (reuse=False) =====\n",
      "Tensor(\"DeepDesc/SimpleDesc/conv1/BiasAdd:0\", shape=(?, 16, 16, 64), dtype=float32)\n",
      "Tensor(\"DeepDesc/SimpleDesc/bn1/FusedBatchNorm:0\", shape=(?, 16, 16, 64), dtype=float32)\n",
      "#1 conv-bn-act (?, 16, 16, 64)\n",
      "Tensor(\"DeepDesc/SimpleDesc/conv2/BiasAdd:0\", shape=(?, 8, 8, 128), dtype=float32)\n",
      "Tensor(\"DeepDesc/SimpleDesc/bn2/FusedBatchNorm:0\", shape=(?, 8, 8, 128), dtype=float32)\n",
      "#2 conv-bn-act (?, 8, 8, 128)\n",
      "Tensor(\"DeepDesc/SimpleDesc/conv3/BiasAdd:0\", shape=(?, 4, 4, 256), dtype=float32)\n",
      "Tensor(\"DeepDesc/SimpleDesc/bn3/FusedBatchNorm:0\", shape=(?, 4, 4, 256), dtype=float32)\n",
      "#3 conv-bn-act (?, 4, 4, 256)\n",
      "curr_in = Tensor(\"DeepDesc/SimpleDesc/fc1/BiasAdd:0\", shape=(?, 512), dtype=float32)\n",
      "Tensor(\"DeepDesc/SimpleDesc/fc1/BiasAdd:0\", shape=(?, 512), dtype=float32)\n",
      "Tensor(\"DeepDesc/SimpleDesc/fc-bn1/batchnorm/add_1:0\", shape=(?, 512), dtype=float32)\n",
      "curr_in = Tensor(\"DeepDesc/SimpleDesc/Relu_3:0\", shape=(?, 512), dtype=float32)\n",
      "Feat-Norm: L2-NORM\n",
      "NORM FEAT (?, 256)\n",
      "norm_feats = Tensor(\"DeepDesc/SimpleDesc/l2_normalize:0\", shape=(?, 256), dtype=float32)\n",
      "raw_feats = Tensor(\"DeepDesc/SimpleDesc/fc2/BiasAdd:0\", shape=(?, 256), dtype=float32)\n",
      "Tensor(\"Atan2_1:0\", shape=(?,), dtype=float32)\n"
     ]
    }
   ],
   "source": [
    "tf.reset_default_graph()\n",
    "\n",
    "photo_ph = tf.placeholder(tf.float32, [1, None, None, 1]) # input grayscale image, normalized by 0~1\n",
    "is_training = tf.constant(False) # Always False in testing\n",
    "\n",
    "ops = build_networks(config, photo_ph, is_training)\n",
    "\n",
    "tfconfig = tf.ConfigProto()\n",
    "tfconfig.gpu_options.allow_growth = True \n",
    "sess = tf.Session(config=tfconfig)\n",
    "sess.run(tf.global_variables_initializer())"
   ]
  },
  {
   "cell_type": "markdown",
   "metadata": {},
   "source": [
    "# load model"
   ]
  },
  {
   "cell_type": "code",
   "execution_count": 7,
   "metadata": {
    "ExecuteTime": {
     "end_time": "2018-10-26T09:09:46.876199Z",
     "start_time": "2018-10-26T09:09:46.741230Z"
    }
   },
   "outputs": [
    {
     "name": "stdout",
     "output_type": "stream",
     "text": [
      "Load trained models...\n",
      "Checkpoint models-latest-42000\n",
      "[Fri Oct 26 17:09:46 2018] Resuming...\n",
      "INFO:tensorflow:Restoring parameters from ./release/models/outdoor/models-latest-42000\n",
      "Done.\n"
     ]
    }
   ],
   "source": [
    "saver = tf.train.Saver()\n",
    "print('Load trained models...')\n",
    "\n",
    "if os.path.isdir(config.model):\n",
    "    checkpoint = tf.train.latest_checkpoint(config.model)\n",
    "    model_dir = config.model\n",
    "else:\n",
    "    checkpoint = config.model\n",
    "    model_dir = os.path.dirname(config.model)\n",
    "\n",
    "\n",
    "if checkpoint is not None:\n",
    "    print('Checkpoint', os.path.basename(checkpoint))\n",
    "    print(\"[{}] Resuming...\".format(time.asctime()))\n",
    "    saver.restore(sess, checkpoint)\n",
    "else:\n",
    "    raise ValueError('Cannot load model from {}'.format(model_dir))    \n",
    "print('Done.')"
   ]
  },
  {
   "cell_type": "markdown",
   "metadata": {},
   "source": [
    "# 保存pb文件"
   ]
  },
  {
   "cell_type": "code",
   "execution_count": 8,
   "metadata": {
    "ExecuteTime": {
     "end_time": "2018-10-26T09:09:47.112165Z",
     "start_time": "2018-10-26T09:09:46.878077Z"
    }
   },
   "outputs": [
    {
     "data": {
      "text/plain": [
       "'./release/models/outdoor/lfnet_model_1000k.pbtxt'"
      ]
     },
     "execution_count": 8,
     "metadata": {},
     "output_type": "execute_result"
    }
   ],
   "source": [
    "tf.train.write_graph(sess.graph_def, config.model, \"lfnet_model_1000k.pbtxt\", as_text=True)"
   ]
  },
  {
   "cell_type": "code",
   "execution_count": 9,
   "metadata": {
    "ExecuteTime": {
     "end_time": "2018-10-26T09:09:47.152510Z",
     "start_time": "2018-10-26T09:09:47.113479Z"
    }
   },
   "outputs": [
    {
     "name": "stdout",
     "output_type": "stream",
     "text": [
      "name: \"save/restore_all\"\n",
      "op: \"NoOp\"\n",
      "input: \"^save/Assign\"\n",
      "input: \"^save/Assign_1\"\n",
      "input: \"^save/Assign_2\"\n",
      "input: \"^save/Assign_3\"\n",
      "input: \"^save/Assign_4\"\n",
      "input: \"^save/Assign_5\"\n",
      "input: \"^save/Assign_6\"\n",
      "input: \"^save/Assign_7\"\n",
      "input: \"^save/Assign_8\"\n",
      "input: \"^save/Assign_9\"\n",
      "input: \"^save/Assign_10\"\n",
      "input: \"^save/Assign_11\"\n",
      "input: \"^save/Assign_12\"\n",
      "input: \"^save/Assign_13\"\n",
      "input: \"^save/Assign_14\"\n",
      "input: \"^save/Assign_15\"\n",
      "input: \"^save/Assign_16\"\n",
      "input: \"^save/Assign_17\"\n",
      "input: \"^save/Assign_18\"\n",
      "input: \"^save/Assign_19\"\n",
      "input: \"^save/Assign_20\"\n",
      "input: \"^save/Assign_21\"\n",
      "input: \"^save/Assign_22\"\n",
      "input: \"^save/Assign_23\"\n",
      "input: \"^save/Assign_24\"\n",
      "input: \"^save/Assign_25\"\n",
      "input: \"^save/Assign_26\"\n",
      "input: \"^save/Assign_27\"\n",
      "input: \"^save/Assign_28\"\n",
      "input: \"^save/Assign_29\"\n",
      "input: \"^save/Assign_30\"\n",
      "input: \"^save/Assign_31\"\n",
      "input: \"^save/Assign_32\"\n",
      "input: \"^save/Assign_33\"\n",
      "input: \"^save/Assign_34\"\n",
      "input: \"^save/Assign_35\"\n",
      "input: \"^save/Assign_36\"\n",
      "input: \"^save/Assign_37\"\n",
      "input: \"^save/Assign_38\"\n",
      "input: \"^save/Assign_39\"\n",
      "input: \"^save/Assign_40\"\n",
      "input: \"^save/Assign_41\"\n",
      "input: \"^save/Assign_42\"\n",
      "input: \"^save/Assign_43\"\n",
      "input: \"^save/Assign_44\"\n",
      "input: \"^save/Assign_45\"\n",
      "input: \"^save/Assign_46\"\n",
      "input: \"^save/Assign_47\"\n",
      "input: \"^save/Assign_48\"\n",
      "input: \"^save/Assign_49\"\n",
      "input: \"^save/Assign_50\"\n",
      "input: \"^save/Assign_51\"\n",
      "input: \"^save/Assign_52\"\n",
      "input: \"^save/Assign_53\"\n",
      "input: \"^save/Assign_54\"\n",
      "input: \"^save/Assign_55\"\n",
      "input: \"^save/Assign_56\"\n",
      "input: \"^save/Assign_57\"\n",
      "input: \"^save/Assign_58\"\n",
      "input: \"^save/Assign_59\"\n",
      "input: \"^save/Assign_60\"\n",
      "input: \"^save/Assign_61\"\n",
      "input: \"^save/Assign_62\"\n",
      "input: \"^save/Assign_63\"\n",
      "input: \"^save/Assign_64\"\n",
      "input: \"^save/Assign_65\"\n",
      "input: \"^save/Assign_66\"\n",
      "input: \"^save/Assign_67\"\n",
      "input: \"^save/Assign_68\"\n",
      "input: \"^save/Assign_69\"\n",
      "input: \"^save/Assign_70\"\n",
      "input: \"^save/Assign_71\"\n",
      "input: \"^save/Assign_72\"\n",
      "input: \"^save/Assign_73\"\n",
      "input: \"^save/Assign_74\"\n",
      "input: \"^save/Assign_75\"\n",
      "input: \"^save/Assign_76\"\n",
      "input: \"^save/Assign_77\"\n",
      "input: \"^save/Assign_78\"\n",
      "input: \"^save/Assign_79\"\n",
      "\n",
      "['Placeholder', 'Const', 'moments/mean/reduction_indices', 'moments/mean', 'moments/StopGradient', 'moments/SquaredDifference', 'moments/variance/reduction_indices', 'moments/variance', 'batchnorm/add/y', 'batchnorm/add', 'batchnorm/Rsqrt', 'batchnorm/mul', 'batchnorm/Neg', 'batchnorm/mul_1', 'batchnorm/add_1', 'MSDeepDet/Shape', 'MSDeepDet/strided_slice/stack', 'MSDeepDet/strided_slice/stack_1', 'MSDeepDet/strided_slice/stack_2', 'MSDeepDet/strided_slice', 'MSDeepDet/Shape_1', 'MSDeepDet/strided_slice_1/stack', 'MSDeepDet/strided_slice_1/stack_1', 'MSDeepDet/strided_slice_1/stack_2', 'MSDeepDet/strided_slice_1', 'MSDeepDet/Shape_2', 'MSDeepDet/strided_slice_2/stack', 'MSDeepDet/strided_slice_2/stack_1', 'MSDeepDet/strided_slice_2/stack_2', 'MSDeepDet/strided_slice_2', 'MSDeepDet/ConvOnlyResNet/Identity', 'ConvOnlyResNet/init_conv/weights/Initializer/random_uniform/shape', 'ConvOnlyResNet/init_conv/weights/Initializer/random_uniform/min', 'ConvOnlyResNet/init_conv/weights/Initializer/random_uniform/max', 'ConvOnlyResNet/init_conv/weights/Initializer/random_uniform/RandomUniform', 'ConvOnlyResNet/init_conv/weights/Initializer/random_uniform/sub', 'ConvOnlyResNet/init_conv/weights/Initializer/random_uniform/mul', 'ConvOnlyResNet/init_conv/weights/Initializer/random_uniform', 'ConvOnlyResNet/init_conv/weights', 'ConvOnlyResNet/init_conv/weights/Assign', 'ConvOnlyResNet/init_conv/weights/read', 'ConvOnlyResNet/init_conv/biases/Initializer/zeros', 'ConvOnlyResNet/init_conv/biases', 'ConvOnlyResNet/init_conv/biases/Assign', 'ConvOnlyResNet/init_conv/biases/read', 'MSDeepDet/ConvOnlyResNet/init_conv/weights/tag', 'MSDeepDet/ConvOnlyResNet/init_conv/weights', 'MSDeepDet/ConvOnlyResNet/init_conv/biases/tag', 'MSDeepDet/ConvOnlyResNet/init_conv/biases', 'MSDeepDet/ConvOnlyResNet/init_conv/Conv2D', 'MSDeepDet/ConvOnlyResNet/init_conv/BiasAdd', 'ConvOnlyResNet/block-1/pre-bn/gamma/Initializer/ones', 'ConvOnlyResNet/block-1/pre-bn/gamma', 'ConvOnlyResNet/block-1/pre-bn/gamma/Assign', 'ConvOnlyResNet/block-1/pre-bn/gamma/read', 'ConvOnlyResNet/block-1/pre-bn/beta/Initializer/zeros', 'ConvOnlyResNet/block-1/pre-bn/beta', 'ConvOnlyResNet/block-1/pre-bn/beta/Assign', 'ConvOnlyResNet/block-1/pre-bn/beta/read', 'ConvOnlyResNet/block-1/pre-bn/moving_mean/Initializer/zeros', 'ConvOnlyResNet/block-1/pre-bn/moving_mean', 'ConvOnlyResNet/block-1/pre-bn/moving_mean/Assign', 'ConvOnlyResNet/block-1/pre-bn/moving_mean/read', 'ConvOnlyResNet/block-1/pre-bn/moving_variance/Initializer/ones', 'ConvOnlyResNet/block-1/pre-bn/moving_variance', 'ConvOnlyResNet/block-1/pre-bn/moving_variance/Assign', 'ConvOnlyResNet/block-1/pre-bn/moving_variance/read', 'MSDeepDet/ConvOnlyResNet/block-1/pre-bn/FusedBatchNorm', 'MSDeepDet/ConvOnlyResNet/block-1/pre-bn/Const', 'MSDeepDet/ConvOnlyResNet/block-1/LeakyRelu/alpha', 'MSDeepDet/ConvOnlyResNet/block-1/LeakyRelu/mul', 'MSDeepDet/ConvOnlyResNet/block-1/LeakyRelu/Maximum', 'ConvOnlyResNet/block-1/conv1/weights/Initializer/random_uniform/shape', 'ConvOnlyResNet/block-1/conv1/weights/Initializer/random_uniform/min', 'ConvOnlyResNet/block-1/conv1/weights/Initializer/random_uniform/max', 'ConvOnlyResNet/block-1/conv1/weights/Initializer/random_uniform/RandomUniform', 'ConvOnlyResNet/block-1/conv1/weights/Initializer/random_uniform/sub', 'ConvOnlyResNet/block-1/conv1/weights/Initializer/random_uniform/mul', 'ConvOnlyResNet/block-1/conv1/weights/Initializer/random_uniform', 'ConvOnlyResNet/block-1/conv1/weights', 'ConvOnlyResNet/block-1/conv1/weights/Assign', 'ConvOnlyResNet/block-1/conv1/weights/read', 'ConvOnlyResNet/block-1/conv1/biases/Initializer/zeros', 'ConvOnlyResNet/block-1/conv1/biases', 'ConvOnlyResNet/block-1/conv1/biases/Assign', 'ConvOnlyResNet/block-1/conv1/biases/read', 'MSDeepDet/ConvOnlyResNet/block-1/conv1/weights/tag', 'MSDeepDet/ConvOnlyResNet/block-1/conv1/weights', 'MSDeepDet/ConvOnlyResNet/block-1/conv1/biases/tag', 'MSDeepDet/ConvOnlyResNet/block-1/conv1/biases', 'MSDeepDet/ConvOnlyResNet/block-1/conv1/Conv2D', 'MSDeepDet/ConvOnlyResNet/block-1/conv1/BiasAdd', 'ConvOnlyResNet/block-1/mid-bn/gamma/Initializer/ones', 'ConvOnlyResNet/block-1/mid-bn/gamma', 'ConvOnlyResNet/block-1/mid-bn/gamma/Assign', 'ConvOnlyResNet/block-1/mid-bn/gamma/read', 'ConvOnlyResNet/block-1/mid-bn/beta/Initializer/zeros', 'ConvOnlyResNet/block-1/mid-bn/beta', 'ConvOnlyResNet/block-1/mid-bn/beta/Assign', 'ConvOnlyResNet/block-1/mid-bn/beta/read', 'ConvOnlyResNet/block-1/mid-bn/moving_mean/Initializer/zeros', 'ConvOnlyResNet/block-1/mid-bn/moving_mean', 'ConvOnlyResNet/block-1/mid-bn/moving_mean/Assign', 'ConvOnlyResNet/block-1/mid-bn/moving_mean/read', 'ConvOnlyResNet/block-1/mid-bn/moving_variance/Initializer/ones', 'ConvOnlyResNet/block-1/mid-bn/moving_variance', 'ConvOnlyResNet/block-1/mid-bn/moving_variance/Assign', 'ConvOnlyResNet/block-1/mid-bn/moving_variance/read', 'MSDeepDet/ConvOnlyResNet/block-1/mid-bn/FusedBatchNorm', 'MSDeepDet/ConvOnlyResNet/block-1/mid-bn/Const', 'MSDeepDet/ConvOnlyResNet/block-1/LeakyRelu_1/alpha', 'MSDeepDet/ConvOnlyResNet/block-1/LeakyRelu_1/mul', 'MSDeepDet/ConvOnlyResNet/block-1/LeakyRelu_1/Maximum', 'ConvOnlyResNet/block-1/conv2/weights/Initializer/random_uniform/shape', 'ConvOnlyResNet/block-1/conv2/weights/Initializer/random_uniform/min', 'ConvOnlyResNet/block-1/conv2/weights/Initializer/random_uniform/max', 'ConvOnlyResNet/block-1/conv2/weights/Initializer/random_uniform/RandomUniform', 'ConvOnlyResNet/block-1/conv2/weights/Initializer/random_uniform/sub', 'ConvOnlyResNet/block-1/conv2/weights/Initializer/random_uniform/mul', 'ConvOnlyResNet/block-1/conv2/weights/Initializer/random_uniform', 'ConvOnlyResNet/block-1/conv2/weights', 'ConvOnlyResNet/block-1/conv2/weights/Assign', 'ConvOnlyResNet/block-1/conv2/weights/read', 'ConvOnlyResNet/block-1/conv2/biases/Initializer/zeros', 'ConvOnlyResNet/block-1/conv2/biases', 'ConvOnlyResNet/block-1/conv2/biases/Assign', 'ConvOnlyResNet/block-1/conv2/biases/read', 'MSDeepDet/ConvOnlyResNet/block-1/conv2/weights/tag', 'MSDeepDet/ConvOnlyResNet/block-1/conv2/weights', 'MSDeepDet/ConvOnlyResNet/block-1/conv2/biases/tag', 'MSDeepDet/ConvOnlyResNet/block-1/conv2/biases', 'MSDeepDet/ConvOnlyResNet/block-1/conv2/Conv2D', 'MSDeepDet/ConvOnlyResNet/block-1/conv2/BiasAdd', 'MSDeepDet/ConvOnlyResNet/block-1/add', 'ConvOnlyResNet/block-2/pre-bn/gamma/Initializer/ones', 'ConvOnlyResNet/block-2/pre-bn/gamma', 'ConvOnlyResNet/block-2/pre-bn/gamma/Assign', 'ConvOnlyResNet/block-2/pre-bn/gamma/read', 'ConvOnlyResNet/block-2/pre-bn/beta/Initializer/zeros', 'ConvOnlyResNet/block-2/pre-bn/beta', 'ConvOnlyResNet/block-2/pre-bn/beta/Assign', 'ConvOnlyResNet/block-2/pre-bn/beta/read', 'ConvOnlyResNet/block-2/pre-bn/moving_mean/Initializer/zeros', 'ConvOnlyResNet/block-2/pre-bn/moving_mean', 'ConvOnlyResNet/block-2/pre-bn/moving_mean/Assign', 'ConvOnlyResNet/block-2/pre-bn/moving_mean/read', 'ConvOnlyResNet/block-2/pre-bn/moving_variance/Initializer/ones', 'ConvOnlyResNet/block-2/pre-bn/moving_variance', 'ConvOnlyResNet/block-2/pre-bn/moving_variance/Assign', 'ConvOnlyResNet/block-2/pre-bn/moving_variance/read', 'MSDeepDet/ConvOnlyResNet/block-2/pre-bn/FusedBatchNorm', 'MSDeepDet/ConvOnlyResNet/block-2/pre-bn/Const', 'MSDeepDet/ConvOnlyResNet/block-2/LeakyRelu/alpha', 'MSDeepDet/ConvOnlyResNet/block-2/LeakyRelu/mul', 'MSDeepDet/ConvOnlyResNet/block-2/LeakyRelu/Maximum', 'ConvOnlyResNet/block-2/conv1/weights/Initializer/random_uniform/shape', 'ConvOnlyResNet/block-2/conv1/weights/Initializer/random_uniform/min', 'ConvOnlyResNet/block-2/conv1/weights/Initializer/random_uniform/max', 'ConvOnlyResNet/block-2/conv1/weights/Initializer/random_uniform/RandomUniform', 'ConvOnlyResNet/block-2/conv1/weights/Initializer/random_uniform/sub', 'ConvOnlyResNet/block-2/conv1/weights/Initializer/random_uniform/mul', 'ConvOnlyResNet/block-2/conv1/weights/Initializer/random_uniform', 'ConvOnlyResNet/block-2/conv1/weights', 'ConvOnlyResNet/block-2/conv1/weights/Assign', 'ConvOnlyResNet/block-2/conv1/weights/read', 'ConvOnlyResNet/block-2/conv1/biases/Initializer/zeros', 'ConvOnlyResNet/block-2/conv1/biases', 'ConvOnlyResNet/block-2/conv1/biases/Assign', 'ConvOnlyResNet/block-2/conv1/biases/read', 'MSDeepDet/ConvOnlyResNet/block-2/conv1/weights/tag', 'MSDeepDet/ConvOnlyResNet/block-2/conv1/weights', 'MSDeepDet/ConvOnlyResNet/block-2/conv1/biases/tag', 'MSDeepDet/ConvOnlyResNet/block-2/conv1/biases', 'MSDeepDet/ConvOnlyResNet/block-2/conv1/Conv2D', 'MSDeepDet/ConvOnlyResNet/block-2/conv1/BiasAdd', 'ConvOnlyResNet/block-2/mid-bn/gamma/Initializer/ones', 'ConvOnlyResNet/block-2/mid-bn/gamma', 'ConvOnlyResNet/block-2/mid-bn/gamma/Assign', 'ConvOnlyResNet/block-2/mid-bn/gamma/read', 'ConvOnlyResNet/block-2/mid-bn/beta/Initializer/zeros', 'ConvOnlyResNet/block-2/mid-bn/beta', 'ConvOnlyResNet/block-2/mid-bn/beta/Assign', 'ConvOnlyResNet/block-2/mid-bn/beta/read', 'ConvOnlyResNet/block-2/mid-bn/moving_mean/Initializer/zeros', 'ConvOnlyResNet/block-2/mid-bn/moving_mean', 'ConvOnlyResNet/block-2/mid-bn/moving_mean/Assign', 'ConvOnlyResNet/block-2/mid-bn/moving_mean/read', 'ConvOnlyResNet/block-2/mid-bn/moving_variance/Initializer/ones', 'ConvOnlyResNet/block-2/mid-bn/moving_variance', 'ConvOnlyResNet/block-2/mid-bn/moving_variance/Assign', 'ConvOnlyResNet/block-2/mid-bn/moving_variance/read', 'MSDeepDet/ConvOnlyResNet/block-2/mid-bn/FusedBatchNorm', 'MSDeepDet/ConvOnlyResNet/block-2/mid-bn/Const', 'MSDeepDet/ConvOnlyResNet/block-2/LeakyRelu_1/alpha', 'MSDeepDet/ConvOnlyResNet/block-2/LeakyRelu_1/mul', 'MSDeepDet/ConvOnlyResNet/block-2/LeakyRelu_1/Maximum', 'ConvOnlyResNet/block-2/conv2/weights/Initializer/random_uniform/shape', 'ConvOnlyResNet/block-2/conv2/weights/Initializer/random_uniform/min', 'ConvOnlyResNet/block-2/conv2/weights/Initializer/random_uniform/max', 'ConvOnlyResNet/block-2/conv2/weights/Initializer/random_uniform/RandomUniform', 'ConvOnlyResNet/block-2/conv2/weights/Initializer/random_uniform/sub', 'ConvOnlyResNet/block-2/conv2/weights/Initializer/random_uniform/mul', 'ConvOnlyResNet/block-2/conv2/weights/Initializer/random_uniform', 'ConvOnlyResNet/block-2/conv2/weights', 'ConvOnlyResNet/block-2/conv2/weights/Assign', 'ConvOnlyResNet/block-2/conv2/weights/read', 'ConvOnlyResNet/block-2/conv2/biases/Initializer/zeros', 'ConvOnlyResNet/block-2/conv2/biases', 'ConvOnlyResNet/block-2/conv2/biases/Assign', 'ConvOnlyResNet/block-2/conv2/biases/read', 'MSDeepDet/ConvOnlyResNet/block-2/conv2/weights/tag', 'MSDeepDet/ConvOnlyResNet/block-2/conv2/weights', 'MSDeepDet/ConvOnlyResNet/block-2/conv2/biases/tag', 'MSDeepDet/ConvOnlyResNet/block-2/conv2/biases', 'MSDeepDet/ConvOnlyResNet/block-2/conv2/Conv2D', 'MSDeepDet/ConvOnlyResNet/block-2/conv2/BiasAdd', 'MSDeepDet/ConvOnlyResNet/block-2/add', 'ConvOnlyResNet/block-3/pre-bn/gamma/Initializer/ones', 'ConvOnlyResNet/block-3/pre-bn/gamma', 'ConvOnlyResNet/block-3/pre-bn/gamma/Assign', 'ConvOnlyResNet/block-3/pre-bn/gamma/read', 'ConvOnlyResNet/block-3/pre-bn/beta/Initializer/zeros', 'ConvOnlyResNet/block-3/pre-bn/beta', 'ConvOnlyResNet/block-3/pre-bn/beta/Assign', 'ConvOnlyResNet/block-3/pre-bn/beta/read', 'ConvOnlyResNet/block-3/pre-bn/moving_mean/Initializer/zeros', 'ConvOnlyResNet/block-3/pre-bn/moving_mean', 'ConvOnlyResNet/block-3/pre-bn/moving_mean/Assign', 'ConvOnlyResNet/block-3/pre-bn/moving_mean/read', 'ConvOnlyResNet/block-3/pre-bn/moving_variance/Initializer/ones', 'ConvOnlyResNet/block-3/pre-bn/moving_variance', 'ConvOnlyResNet/block-3/pre-bn/moving_variance/Assign', 'ConvOnlyResNet/block-3/pre-bn/moving_variance/read', 'MSDeepDet/ConvOnlyResNet/block-3/pre-bn/FusedBatchNorm', 'MSDeepDet/ConvOnlyResNet/block-3/pre-bn/Const', 'MSDeepDet/ConvOnlyResNet/block-3/LeakyRelu/alpha', 'MSDeepDet/ConvOnlyResNet/block-3/LeakyRelu/mul', 'MSDeepDet/ConvOnlyResNet/block-3/LeakyRelu/Maximum', 'ConvOnlyResNet/block-3/conv1/weights/Initializer/random_uniform/shape', 'ConvOnlyResNet/block-3/conv1/weights/Initializer/random_uniform/min', 'ConvOnlyResNet/block-3/conv1/weights/Initializer/random_uniform/max', 'ConvOnlyResNet/block-3/conv1/weights/Initializer/random_uniform/RandomUniform', 'ConvOnlyResNet/block-3/conv1/weights/Initializer/random_uniform/sub', 'ConvOnlyResNet/block-3/conv1/weights/Initializer/random_uniform/mul', 'ConvOnlyResNet/block-3/conv1/weights/Initializer/random_uniform', 'ConvOnlyResNet/block-3/conv1/weights', 'ConvOnlyResNet/block-3/conv1/weights/Assign', 'ConvOnlyResNet/block-3/conv1/weights/read', 'ConvOnlyResNet/block-3/conv1/biases/Initializer/zeros', 'ConvOnlyResNet/block-3/conv1/biases', 'ConvOnlyResNet/block-3/conv1/biases/Assign', 'ConvOnlyResNet/block-3/conv1/biases/read', 'MSDeepDet/ConvOnlyResNet/block-3/conv1/weights/tag', 'MSDeepDet/ConvOnlyResNet/block-3/conv1/weights', 'MSDeepDet/ConvOnlyResNet/block-3/conv1/biases/tag', 'MSDeepDet/ConvOnlyResNet/block-3/conv1/biases', 'MSDeepDet/ConvOnlyResNet/block-3/conv1/Conv2D', 'MSDeepDet/ConvOnlyResNet/block-3/conv1/BiasAdd', 'ConvOnlyResNet/block-3/mid-bn/gamma/Initializer/ones', 'ConvOnlyResNet/block-3/mid-bn/gamma', 'ConvOnlyResNet/block-3/mid-bn/gamma/Assign', 'ConvOnlyResNet/block-3/mid-bn/gamma/read', 'ConvOnlyResNet/block-3/mid-bn/beta/Initializer/zeros', 'ConvOnlyResNet/block-3/mid-bn/beta', 'ConvOnlyResNet/block-3/mid-bn/beta/Assign', 'ConvOnlyResNet/block-3/mid-bn/beta/read', 'ConvOnlyResNet/block-3/mid-bn/moving_mean/Initializer/zeros', 'ConvOnlyResNet/block-3/mid-bn/moving_mean', 'ConvOnlyResNet/block-3/mid-bn/moving_mean/Assign', 'ConvOnlyResNet/block-3/mid-bn/moving_mean/read', 'ConvOnlyResNet/block-3/mid-bn/moving_variance/Initializer/ones', 'ConvOnlyResNet/block-3/mid-bn/moving_variance', 'ConvOnlyResNet/block-3/mid-bn/moving_variance/Assign', 'ConvOnlyResNet/block-3/mid-bn/moving_variance/read', 'MSDeepDet/ConvOnlyResNet/block-3/mid-bn/FusedBatchNorm', 'MSDeepDet/ConvOnlyResNet/block-3/mid-bn/Const', 'MSDeepDet/ConvOnlyResNet/block-3/LeakyRelu_1/alpha', 'MSDeepDet/ConvOnlyResNet/block-3/LeakyRelu_1/mul', 'MSDeepDet/ConvOnlyResNet/block-3/LeakyRelu_1/Maximum', 'ConvOnlyResNet/block-3/conv2/weights/Initializer/random_uniform/shape', 'ConvOnlyResNet/block-3/conv2/weights/Initializer/random_uniform/min', 'ConvOnlyResNet/block-3/conv2/weights/Initializer/random_uniform/max', 'ConvOnlyResNet/block-3/conv2/weights/Initializer/random_uniform/RandomUniform', 'ConvOnlyResNet/block-3/conv2/weights/Initializer/random_uniform/sub', 'ConvOnlyResNet/block-3/conv2/weights/Initializer/random_uniform/mul', 'ConvOnlyResNet/block-3/conv2/weights/Initializer/random_uniform', 'ConvOnlyResNet/block-3/conv2/weights', 'ConvOnlyResNet/block-3/conv2/weights/Assign', 'ConvOnlyResNet/block-3/conv2/weights/read', 'ConvOnlyResNet/block-3/conv2/biases/Initializer/zeros', 'ConvOnlyResNet/block-3/conv2/biases', 'ConvOnlyResNet/block-3/conv2/biases/Assign', 'ConvOnlyResNet/block-3/conv2/biases/read', 'MSDeepDet/ConvOnlyResNet/block-3/conv2/weights/tag', 'MSDeepDet/ConvOnlyResNet/block-3/conv2/weights', 'MSDeepDet/ConvOnlyResNet/block-3/conv2/biases/tag', 'MSDeepDet/ConvOnlyResNet/block-3/conv2/biases', 'MSDeepDet/ConvOnlyResNet/block-3/conv2/Conv2D', 'MSDeepDet/ConvOnlyResNet/block-3/conv2/BiasAdd', 'MSDeepDet/ConvOnlyResNet/block-3/add', 'ConvOnlyResNet/fin-bn/gamma/Initializer/ones', 'ConvOnlyResNet/fin-bn/gamma', 'ConvOnlyResNet/fin-bn/gamma/Assign', 'ConvOnlyResNet/fin-bn/gamma/read', 'ConvOnlyResNet/fin-bn/beta/Initializer/zeros', 'ConvOnlyResNet/fin-bn/beta', 'ConvOnlyResNet/fin-bn/beta/Assign', 'ConvOnlyResNet/fin-bn/beta/read', 'ConvOnlyResNet/fin-bn/moving_mean/Initializer/zeros', 'ConvOnlyResNet/fin-bn/moving_mean', 'ConvOnlyResNet/fin-bn/moving_mean/Assign', 'ConvOnlyResNet/fin-bn/moving_mean/read', 'ConvOnlyResNet/fin-bn/moving_variance/Initializer/ones', 'ConvOnlyResNet/fin-bn/moving_variance', 'ConvOnlyResNet/fin-bn/moving_variance/Assign', 'ConvOnlyResNet/fin-bn/moving_variance/read', 'MSDeepDet/ConvOnlyResNet/fin-bn/FusedBatchNorm', 'MSDeepDet/ConvOnlyResNet/fin-bn/Const', 'MSDeepDet/ConvOnlyResNet/LeakyRelu/alpha', 'MSDeepDet/ConvOnlyResNet/LeakyRelu/mul', 'MSDeepDet/ConvOnlyResNet/LeakyRelu/Maximum', 'MSDeepDet/ConvOnlyResNet/Identity_1', 'MSDeepDet/ConvOnlyResNet/Shape', 'MSDeepDet/ConvOnlyResNet/strided_slice/stack', 'MSDeepDet/ConvOnlyResNet/strided_slice/stack_1', 'MSDeepDet/ConvOnlyResNet/strided_slice/stack_2', 'MSDeepDet/ConvOnlyResNet/strided_slice', 'MSDeepDet/ConvOnlyResNet/ToFloat', 'MSDeepDet/ConvOnlyResNet/Shape_1', 'MSDeepDet/ConvOnlyResNet/strided_slice_1/stack', 'MSDeepDet/ConvOnlyResNet/strided_slice_1/stack_1', 'MSDeepDet/ConvOnlyResNet/strided_slice_1/stack_2', 'MSDeepDet/ConvOnlyResNet/strided_slice_1', 'MSDeepDet/ConvOnlyResNet/ToFloat_1', 'MSDeepDet/ConvOnlyResNet/mul/y', 'MSDeepDet/ConvOnlyResNet/mul', 'MSDeepDet/ConvOnlyResNet/add/y', 'MSDeepDet/ConvOnlyResNet/add', 'MSDeepDet/ConvOnlyResNet/Cast', 'MSDeepDet/ConvOnlyResNet/mul_1/y', 'MSDeepDet/ConvOnlyResNet/mul_1', 'MSDeepDet/ConvOnlyResNet/add_1/y', 'MSDeepDet/ConvOnlyResNet/add_1', 'MSDeepDet/ConvOnlyResNet/Cast_1', 'MSDeepDet/ConvOnlyResNet/stack', 'MSDeepDet/ConvOnlyResNet/resize_images/ResizeBilinear', 'ConvOnlyResNet/score_conv_0/weights/Initializer/random_uniform/shape', 'ConvOnlyResNet/score_conv_0/weights/Initializer/random_uniform/min', 'ConvOnlyResNet/score_conv_0/weights/Initializer/random_uniform/max', 'ConvOnlyResNet/score_conv_0/weights/Initializer/random_uniform/RandomUniform', 'ConvOnlyResNet/score_conv_0/weights/Initializer/random_uniform/sub', 'ConvOnlyResNet/score_conv_0/weights/Initializer/random_uniform/mul', 'ConvOnlyResNet/score_conv_0/weights/Initializer/random_uniform', 'ConvOnlyResNet/score_conv_0/weights', 'ConvOnlyResNet/score_conv_0/weights/Assign', 'ConvOnlyResNet/score_conv_0/weights/read', 'ConvOnlyResNet/score_conv_0/biases/Initializer/zeros', 'ConvOnlyResNet/score_conv_0/biases', 'ConvOnlyResNet/score_conv_0/biases/Assign', 'ConvOnlyResNet/score_conv_0/biases/read', 'MSDeepDet/ConvOnlyResNet/score_conv_0/weights/tag', 'MSDeepDet/ConvOnlyResNet/score_conv_0/weights', 'MSDeepDet/ConvOnlyResNet/score_conv_0/biases/tag', 'MSDeepDet/ConvOnlyResNet/score_conv_0/biases', 'MSDeepDet/ConvOnlyResNet/score_conv_0/Conv2D', 'MSDeepDet/ConvOnlyResNet/score_conv_0/BiasAdd', 'MSDeepDet/ConvOnlyResNet/mul_2/y', 'MSDeepDet/ConvOnlyResNet/mul_2', 'MSDeepDet/ConvOnlyResNet/add_2/y', 'MSDeepDet/ConvOnlyResNet/add_2', 'MSDeepDet/ConvOnlyResNet/Cast_2', 'MSDeepDet/ConvOnlyResNet/mul_3/y', 'MSDeepDet/ConvOnlyResNet/mul_3', 'MSDeepDet/ConvOnlyResNet/add_3/y', 'MSDeepDet/ConvOnlyResNet/add_3', 'MSDeepDet/ConvOnlyResNet/Cast_3', 'MSDeepDet/ConvOnlyResNet/stack_1', 'MSDeepDet/ConvOnlyResNet/resize_images_1/ResizeBilinear', 'ConvOnlyResNet/score_conv_1/weights/Initializer/random_uniform/shape', 'ConvOnlyResNet/score_conv_1/weights/Initializer/random_uniform/min', 'ConvOnlyResNet/score_conv_1/weights/Initializer/random_uniform/max', 'ConvOnlyResNet/score_conv_1/weights/Initializer/random_uniform/RandomUniform', 'ConvOnlyResNet/score_conv_1/weights/Initializer/random_uniform/sub', 'ConvOnlyResNet/score_conv_1/weights/Initializer/random_uniform/mul', 'ConvOnlyResNet/score_conv_1/weights/Initializer/random_uniform', 'ConvOnlyResNet/score_conv_1/weights', 'ConvOnlyResNet/score_conv_1/weights/Assign', 'ConvOnlyResNet/score_conv_1/weights/read', 'ConvOnlyResNet/score_conv_1/biases/Initializer/zeros', 'ConvOnlyResNet/score_conv_1/biases', 'ConvOnlyResNet/score_conv_1/biases/Assign', 'ConvOnlyResNet/score_conv_1/biases/read', 'MSDeepDet/ConvOnlyResNet/score_conv_1/weights/tag', 'MSDeepDet/ConvOnlyResNet/score_conv_1/weights', 'MSDeepDet/ConvOnlyResNet/score_conv_1/biases/tag', 'MSDeepDet/ConvOnlyResNet/score_conv_1/biases', 'MSDeepDet/ConvOnlyResNet/score_conv_1/Conv2D', 'MSDeepDet/ConvOnlyResNet/score_conv_1/BiasAdd', 'MSDeepDet/ConvOnlyResNet/mul_4/y', 'MSDeepDet/ConvOnlyResNet/mul_4', 'MSDeepDet/ConvOnlyResNet/add_4/y', 'MSDeepDet/ConvOnlyResNet/add_4', 'MSDeepDet/ConvOnlyResNet/Cast_4', 'MSDeepDet/ConvOnlyResNet/mul_5/y', 'MSDeepDet/ConvOnlyResNet/mul_5', 'MSDeepDet/ConvOnlyResNet/add_5/y', 'MSDeepDet/ConvOnlyResNet/add_5', 'MSDeepDet/ConvOnlyResNet/Cast_5', 'MSDeepDet/ConvOnlyResNet/stack_2', 'MSDeepDet/ConvOnlyResNet/resize_images_2/ResizeBilinear', 'ConvOnlyResNet/score_conv_2/weights/Initializer/random_uniform/shape', 'ConvOnlyResNet/score_conv_2/weights/Initializer/random_uniform/min', 'ConvOnlyResNet/score_conv_2/weights/Initializer/random_uniform/max', 'ConvOnlyResNet/score_conv_2/weights/Initializer/random_uniform/RandomUniform', 'ConvOnlyResNet/score_conv_2/weights/Initializer/random_uniform/sub', 'ConvOnlyResNet/score_conv_2/weights/Initializer/random_uniform/mul', 'ConvOnlyResNet/score_conv_2/weights/Initializer/random_uniform', 'ConvOnlyResNet/score_conv_2/weights', 'ConvOnlyResNet/score_conv_2/weights/Assign', 'ConvOnlyResNet/score_conv_2/weights/read', 'ConvOnlyResNet/score_conv_2/biases/Initializer/zeros', 'ConvOnlyResNet/score_conv_2/biases', 'ConvOnlyResNet/score_conv_2/biases/Assign', 'ConvOnlyResNet/score_conv_2/biases/read', 'MSDeepDet/ConvOnlyResNet/score_conv_2/weights/tag', 'MSDeepDet/ConvOnlyResNet/score_conv_2/weights', 'MSDeepDet/ConvOnlyResNet/score_conv_2/biases/tag', 'MSDeepDet/ConvOnlyResNet/score_conv_2/biases', 'MSDeepDet/ConvOnlyResNet/score_conv_2/Conv2D', 'MSDeepDet/ConvOnlyResNet/score_conv_2/BiasAdd', 'MSDeepDet/ConvOnlyResNet/mul_6/y', 'MSDeepDet/ConvOnlyResNet/mul_6', 'MSDeepDet/ConvOnlyResNet/add_6/y', 'MSDeepDet/ConvOnlyResNet/add_6', 'MSDeepDet/ConvOnlyResNet/Cast_6', 'MSDeepDet/ConvOnlyResNet/mul_7/y', 'MSDeepDet/ConvOnlyResNet/mul_7', 'MSDeepDet/ConvOnlyResNet/add_7/y', 'MSDeepDet/ConvOnlyResNet/add_7', 'MSDeepDet/ConvOnlyResNet/Cast_7', 'MSDeepDet/ConvOnlyResNet/stack_3', 'MSDeepDet/ConvOnlyResNet/resize_images_3/ResizeBilinear', 'ConvOnlyResNet/score_conv_3/weights/Initializer/random_uniform/shape', 'ConvOnlyResNet/score_conv_3/weights/Initializer/random_uniform/min', 'ConvOnlyResNet/score_conv_3/weights/Initializer/random_uniform/max', 'ConvOnlyResNet/score_conv_3/weights/Initializer/random_uniform/RandomUniform', 'ConvOnlyResNet/score_conv_3/weights/Initializer/random_uniform/sub', 'ConvOnlyResNet/score_conv_3/weights/Initializer/random_uniform/mul', 'ConvOnlyResNet/score_conv_3/weights/Initializer/random_uniform', 'ConvOnlyResNet/score_conv_3/weights', 'ConvOnlyResNet/score_conv_3/weights/Assign', 'ConvOnlyResNet/score_conv_3/weights/read', 'ConvOnlyResNet/score_conv_3/biases/Initializer/zeros', 'ConvOnlyResNet/score_conv_3/biases', 'ConvOnlyResNet/score_conv_3/biases/Assign', 'ConvOnlyResNet/score_conv_3/biases/read', 'MSDeepDet/ConvOnlyResNet/score_conv_3/weights/tag', 'MSDeepDet/ConvOnlyResNet/score_conv_3/weights', 'MSDeepDet/ConvOnlyResNet/score_conv_3/biases/tag', 'MSDeepDet/ConvOnlyResNet/score_conv_3/biases', 'MSDeepDet/ConvOnlyResNet/score_conv_3/Conv2D', 'MSDeepDet/ConvOnlyResNet/score_conv_3/BiasAdd', 'MSDeepDet/ConvOnlyResNet/mul_8/y', 'MSDeepDet/ConvOnlyResNet/mul_8', 'MSDeepDet/ConvOnlyResNet/add_8/y', 'MSDeepDet/ConvOnlyResNet/add_8', 'MSDeepDet/ConvOnlyResNet/Cast_8', 'MSDeepDet/ConvOnlyResNet/mul_9/y', 'MSDeepDet/ConvOnlyResNet/mul_9', 'MSDeepDet/ConvOnlyResNet/add_9/y', 'MSDeepDet/ConvOnlyResNet/add_9', 'MSDeepDet/ConvOnlyResNet/Cast_9', 'MSDeepDet/ConvOnlyResNet/stack_4', 'MSDeepDet/ConvOnlyResNet/resize_images_4/ResizeBilinear', 'ConvOnlyResNet/score_conv_4/weights/Initializer/random_uniform/shape', 'ConvOnlyResNet/score_conv_4/weights/Initializer/random_uniform/min', 'ConvOnlyResNet/score_conv_4/weights/Initializer/random_uniform/max', 'ConvOnlyResNet/score_conv_4/weights/Initializer/random_uniform/RandomUniform', 'ConvOnlyResNet/score_conv_4/weights/Initializer/random_uniform/sub', 'ConvOnlyResNet/score_conv_4/weights/Initializer/random_uniform/mul', 'ConvOnlyResNet/score_conv_4/weights/Initializer/random_uniform', 'ConvOnlyResNet/score_conv_4/weights', 'ConvOnlyResNet/score_conv_4/weights/Assign', 'ConvOnlyResNet/score_conv_4/weights/read', 'ConvOnlyResNet/score_conv_4/biases/Initializer/zeros', 'ConvOnlyResNet/score_conv_4/biases', 'ConvOnlyResNet/score_conv_4/biases/Assign', 'ConvOnlyResNet/score_conv_4/biases/read', 'MSDeepDet/ConvOnlyResNet/score_conv_4/weights/tag', 'MSDeepDet/ConvOnlyResNet/score_conv_4/weights', 'MSDeepDet/ConvOnlyResNet/score_conv_4/biases/tag', 'MSDeepDet/ConvOnlyResNet/score_conv_4/biases', 'MSDeepDet/ConvOnlyResNet/score_conv_4/Conv2D', 'MSDeepDet/ConvOnlyResNet/score_conv_4/BiasAdd', 'MSDeepDet/ConvOnlyResNet/Const', 'ConvOnlyResNet/ori_conv/weights/Initializer/zeros', 'ConvOnlyResNet/ori_conv/weights', 'ConvOnlyResNet/ori_conv/weights/Assign', 'ConvOnlyResNet/ori_conv/weights/read', 'ConvOnlyResNet/ori_conv/biases', 'ConvOnlyResNet/ori_conv/biases/Assign', 'ConvOnlyResNet/ori_conv/biases/read', 'MSDeepDet/ConvOnlyResNet/ori_conv/Conv2D', 'MSDeepDet/ConvOnlyResNet/ori_conv/BiasAdd', 'MSDeepDet/ConvOnlyResNet/l2_normalize/Square', 'MSDeepDet/ConvOnlyResNet/l2_normalize/Sum/reduction_indices', 'MSDeepDet/ConvOnlyResNet/l2_normalize/Sum', 'MSDeepDet/ConvOnlyResNet/l2_normalize/Maximum/y', 'MSDeepDet/ConvOnlyResNet/l2_normalize/Maximum', 'MSDeepDet/ConvOnlyResNet/l2_normalize/Rsqrt', 'MSDeepDet/ConvOnlyResNet/l2_normalize', 'MSDeepDet/ConvOnlyResNet/ConvOnlyResNet/ori_conv/weights_0/tag', 'MSDeepDet/ConvOnlyResNet/ConvOnlyResNet/ori_conv/weights_0', 'MSDeepDet/ConvOnlyResNet/ConvOnlyResNet/ori_conv/biases_0/tag', 'MSDeepDet/ConvOnlyResNet/ConvOnlyResNet/ori_conv/biases_0', 'MSDeepDet/Const', 'MSDeepDet/moments/mean/reduction_indices', 'MSDeepDet/moments/mean', 'MSDeepDet/moments/StopGradient', 'MSDeepDet/moments/SquaredDifference', 'MSDeepDet/moments/variance/reduction_indices', 'MSDeepDet/moments/variance', 'MSDeepDet/batchnorm/add/y', 'MSDeepDet/batchnorm/add', 'MSDeepDet/batchnorm/Rsqrt', 'MSDeepDet/batchnorm/mul', 'MSDeepDet/batchnorm/Neg', 'MSDeepDet/batchnorm/mul_1', 'MSDeepDet/batchnorm/add_1', 'MSDeepDet/resize_images/size', 'MSDeepDet/resize_images/ResizeBilinear', 'MSDeepDet/moments_1/mean/reduction_indices', 'MSDeepDet/moments_1/mean', 'MSDeepDet/moments_1/StopGradient', 'MSDeepDet/moments_1/SquaredDifference', 'MSDeepDet/moments_1/variance/reduction_indices', 'MSDeepDet/moments_1/variance', 'MSDeepDet/batchnorm_1/add/y', 'MSDeepDet/batchnorm_1/add', 'MSDeepDet/batchnorm_1/Rsqrt', 'MSDeepDet/batchnorm_1/mul', 'MSDeepDet/batchnorm_1/Neg', 'MSDeepDet/batchnorm_1/mul_1', 'MSDeepDet/batchnorm_1/add_1', 'MSDeepDet/resize_images_1/size', 'MSDeepDet/resize_images_1/ResizeBilinear', 'MSDeepDet/moments_2/mean/reduction_indices', 'MSDeepDet/moments_2/mean', 'MSDeepDet/moments_2/StopGradient', 'MSDeepDet/moments_2/SquaredDifference', 'MSDeepDet/moments_2/variance/reduction_indices', 'MSDeepDet/moments_2/variance', 'MSDeepDet/batchnorm_2/add/y', 'MSDeepDet/batchnorm_2/add', 'MSDeepDet/batchnorm_2/Rsqrt', 'MSDeepDet/batchnorm_2/mul', 'MSDeepDet/batchnorm_2/Neg', 'MSDeepDet/batchnorm_2/mul_1', 'MSDeepDet/batchnorm_2/add_1', 'MSDeepDet/resize_images_2/size', 'MSDeepDet/resize_images_2/ResizeBilinear', 'MSDeepDet/moments_3/mean/reduction_indices', 'MSDeepDet/moments_3/mean', 'MSDeepDet/moments_3/StopGradient', 'MSDeepDet/moments_3/SquaredDifference', 'MSDeepDet/moments_3/variance/reduction_indices', 'MSDeepDet/moments_3/variance', 'MSDeepDet/batchnorm_3/add/y', 'MSDeepDet/batchnorm_3/add', 'MSDeepDet/batchnorm_3/Rsqrt', 'MSDeepDet/batchnorm_3/mul', 'MSDeepDet/batchnorm_3/Neg', 'MSDeepDet/batchnorm_3/mul_1', 'MSDeepDet/batchnorm_3/add_1', 'MSDeepDet/resize_images_3/size', 'MSDeepDet/resize_images_3/ResizeBilinear', 'MSDeepDet/moments_4/mean/reduction_indices', 'MSDeepDet/moments_4/mean', 'MSDeepDet/moments_4/StopGradient', 'MSDeepDet/moments_4/SquaredDifference', 'MSDeepDet/moments_4/variance/reduction_indices', 'MSDeepDet/moments_4/variance', 'MSDeepDet/batchnorm_4/add/y', 'MSDeepDet/batchnorm_4/add', 'MSDeepDet/batchnorm_4/Rsqrt', 'MSDeepDet/batchnorm_4/mul', 'MSDeepDet/batchnorm_4/Neg', 'MSDeepDet/batchnorm_4/mul_1', 'MSDeepDet/batchnorm_4/add_1', 'MSDeepDet/resize_images_4/size', 'MSDeepDet/resize_images_4/ResizeBilinear', 'MSDeepDet/concat/axis', 'MSDeepDet/concat', 'MSDeepDet/strided_slice_3/stack', 'MSDeepDet/strided_slice_3/stack_1', 'MSDeepDet/strided_slice_3/stack_2', 'MSDeepDet/strided_slice_3', 'MSDeepDet/transpose/perm', 'MSDeepDet/transpose', 'MSDeepDet/MaxPool3D', 'MSDeepDet/strided_slice_4/stack', 'MSDeepDet/strided_slice_4/stack_1', 'MSDeepDet/strided_slice_4/stack_2', 'MSDeepDet/strided_slice_4', 'MSDeepDet/transpose_1/perm', 'MSDeepDet/transpose_1', 'MSDeepDet/sub', 'MSDeepDet/mul/x', 'MSDeepDet/mul', 'MSDeepDet/Exp', 'MSDeepDet/strided_slice_5/stack', 'MSDeepDet/strided_slice_5/stack_1', 'MSDeepDet/strided_slice_5/stack_2', 'MSDeepDet/strided_slice_5', 'MSDeepDet/transpose_2/perm', 'MSDeepDet/transpose_2', 'MSDeepDet/Const_1', 'MSDeepDet/Conv3D', 'MSDeepDet/strided_slice_6/stack', 'MSDeepDet/strided_slice_6/stack_1', 'MSDeepDet/strided_slice_6/stack_2', 'MSDeepDet/strided_slice_6', 'MSDeepDet/transpose_3/perm', 'MSDeepDet/transpose_3', 'MSDeepDet/add/y', 'MSDeepDet/add', 'MSDeepDet/truediv', 'MSDeepDet/Max/reduction_indices', 'MSDeepDet/Max', 'MSDeepDet/sub_1', 'MSDeepDet/mul_1/x', 'MSDeepDet/mul_1', 'MSDeepDet/Exp_1', 'MSDeepDet/Sum/reduction_indices', 'MSDeepDet/Sum', 'MSDeepDet/add_1/y', 'MSDeepDet/add_1', 'MSDeepDet/truediv_1', 'MSDeepDet/Max_1/reduction_indices', 'MSDeepDet/Max_1', 'MSDeepDet/sub_2', 'MSDeepDet/mul_2/x', 'MSDeepDet/mul_2', 'MSDeepDet/Exp_2', 'MSDeepDet/Sum_1/reduction_indices', 'MSDeepDet/Sum_1', 'MSDeepDet/add_2/y', 'MSDeepDet/add_2', 'MSDeepDet/truediv_2', 'MSDeepDet/mul_3', 'MSDeepDet/Sum_2/reduction_indices', 'MSDeepDet/Sum_2', 'MSDeepDet/Reshape/shape', 'MSDeepDet/Reshape', 'MSDeepDet/mul_4', 'MSDeepDet/Sum_3/reduction_indices', 'MSDeepDet/Sum_3', 'MSDeepDet/strided_slice_7/stack', 'MSDeepDet/strided_slice_7/stack_1', 'MSDeepDet/strided_slice_7/stack_2', 'MSDeepDet/strided_slice_7', 'MSDeepDet/max_scales/tag', 'MSDeepDet/max_scales', 'MSDeepDet/sub_3/y', 'MSDeepDet/sub_3', 'MSDeepDet/sub_4/y', 'MSDeepDet/sub_4', 'MSDeepDet/stack/0', 'MSDeepDet/stack/3', 'MSDeepDet/stack', 'MSDeepDet/ones/Const', 'MSDeepDet/ones', 'MSDeepDet/Pad/paddings', 'MSDeepDet/Pad', 'MSDeepDet/mul_5', 'MSDeepDet/sub_5/y', 'MSDeepDet/sub_5', 'MSDeepDet/sub_6/y', 'MSDeepDet/sub_6', 'MSDeepDet/stack_1/0', 'MSDeepDet/stack_1/3', 'MSDeepDet/stack_1', 'MSDeepDet/ones_1/Const', 'MSDeepDet/ones_1', 'MSDeepDet/Pad_1/paddings', 'MSDeepDet/Pad_1', 'MSDeepDet/NMS/Shape', 'MSDeepDet/NMS/strided_slice/stack', 'MSDeepDet/NMS/strided_slice/stack_1', 'MSDeepDet/NMS/strided_slice/stack_2', 'MSDeepDet/NMS/strided_slice', 'MSDeepDet/NMS/Shape_1', 'MSDeepDet/NMS/strided_slice_1/stack', 'MSDeepDet/NMS/strided_slice_1/stack_1', 'MSDeepDet/NMS/strided_slice_1/stack_2', 'MSDeepDet/NMS/strided_slice_1', 'MSDeepDet/NMS/Shape_2', 'MSDeepDet/NMS/strided_slice_2/stack', 'MSDeepDet/NMS/strided_slice_2/stack_1', 'MSDeepDet/NMS/strided_slice_2/stack_2', 'MSDeepDet/NMS/strided_slice_2', 'MSDeepDet/NMS/Shape_3', 'MSDeepDet/NMS/strided_slice_3/stack', 'MSDeepDet/NMS/strided_slice_3/stack_1', 'MSDeepDet/NMS/strided_slice_3/stack_2', 'MSDeepDet/NMS/strided_slice_3', 'MSDeepDet/NMS/zeros_like', 'MSDeepDet/NMS/Less/y', 'MSDeepDet/NMS/Less', 'MSDeepDet/NMS/Select', 'MSDeepDet/NMS/Pad/paddings', 'MSDeepDet/NMS/Pad', 'MSDeepDet/NMS/add/y', 'MSDeepDet/NMS/add', 'MSDeepDet/NMS/add_1/y', 'MSDeepDet/NMS/add_1', 'MSDeepDet/NMS/Slice/begin', 'MSDeepDet/NMS/Slice/size/0', 'MSDeepDet/NMS/Slice/size/3', 'MSDeepDet/NMS/Slice/size', 'MSDeepDet/NMS/Slice', 'MSDeepDet/NMS/add_2/y', 'MSDeepDet/NMS/add_2', 'MSDeepDet/NMS/add_3/y', 'MSDeepDet/NMS/add_3', 'MSDeepDet/NMS/Slice_1/begin', 'MSDeepDet/NMS/Slice_1/size/0', 'MSDeepDet/NMS/Slice_1/size/3', 'MSDeepDet/NMS/Slice_1/size', 'MSDeepDet/NMS/Slice_1', 'MSDeepDet/NMS/add_4/y', 'MSDeepDet/NMS/add_4', 'MSDeepDet/NMS/add_5/y', 'MSDeepDet/NMS/add_5', 'MSDeepDet/NMS/Slice_2/begin', 'MSDeepDet/NMS/Slice_2/size/0', 'MSDeepDet/NMS/Slice_2/size/3', 'MSDeepDet/NMS/Slice_2/size', 'MSDeepDet/NMS/Slice_2', 'MSDeepDet/NMS/add_6/y', 'MSDeepDet/NMS/add_6', 'MSDeepDet/NMS/add_7/y', 'MSDeepDet/NMS/add_7', 'MSDeepDet/NMS/Slice_3/begin', 'MSDeepDet/NMS/Slice_3/size/0', 'MSDeepDet/NMS/Slice_3/size/3', 'MSDeepDet/NMS/Slice_3/size', 'MSDeepDet/NMS/Slice_3', 'MSDeepDet/NMS/add_8/y', 'MSDeepDet/NMS/add_8', 'MSDeepDet/NMS/add_9/y', 'MSDeepDet/NMS/add_9', 'MSDeepDet/NMS/Slice_4/begin', 'MSDeepDet/NMS/Slice_4/size/0', 'MSDeepDet/NMS/Slice_4/size/3', 'MSDeepDet/NMS/Slice_4/size', 'MSDeepDet/NMS/Slice_4', 'MSDeepDet/NMS/add_10/y', 'MSDeepDet/NMS/add_10', 'MSDeepDet/NMS/add_11/y', 'MSDeepDet/NMS/add_11', 'MSDeepDet/NMS/Slice_5/begin', 'MSDeepDet/NMS/Slice_5/size/0', 'MSDeepDet/NMS/Slice_5/size/3', 'MSDeepDet/NMS/Slice_5/size', 'MSDeepDet/NMS/Slice_5', 'MSDeepDet/NMS/add_12/y', 'MSDeepDet/NMS/add_12', 'MSDeepDet/NMS/add_13/y', 'MSDeepDet/NMS/add_13', 'MSDeepDet/NMS/Slice_6/begin', 'MSDeepDet/NMS/Slice_6/size/0', 'MSDeepDet/NMS/Slice_6/size/3', 'MSDeepDet/NMS/Slice_6/size', 'MSDeepDet/NMS/Slice_6', 'MSDeepDet/NMS/add_14/y', 'MSDeepDet/NMS/add_14', 'MSDeepDet/NMS/add_15/y', 'MSDeepDet/NMS/add_15', 'MSDeepDet/NMS/Slice_7/begin', 'MSDeepDet/NMS/Slice_7/size/0', 'MSDeepDet/NMS/Slice_7/size/3', 'MSDeepDet/NMS/Slice_7/size', 'MSDeepDet/NMS/Slice_7', 'MSDeepDet/NMS/add_16/y', 'MSDeepDet/NMS/add_16', 'MSDeepDet/NMS/add_17/y', 'MSDeepDet/NMS/add_17', 'MSDeepDet/NMS/Slice_8/begin', 'MSDeepDet/NMS/Slice_8/size/0', 'MSDeepDet/NMS/Slice_8/size/3', 'MSDeepDet/NMS/Slice_8/size', 'MSDeepDet/NMS/Slice_8', 'MSDeepDet/NMS/add_18/y', 'MSDeepDet/NMS/add_18', 'MSDeepDet/NMS/add_19/y', 'MSDeepDet/NMS/add_19', 'MSDeepDet/NMS/Slice_9/begin', 'MSDeepDet/NMS/Slice_9/size/0', 'MSDeepDet/NMS/Slice_9/size/3', 'MSDeepDet/NMS/Slice_9/size', 'MSDeepDet/NMS/Slice_9', 'MSDeepDet/NMS/add_20/y', 'MSDeepDet/NMS/add_20', 'MSDeepDet/NMS/add_21/y', 'MSDeepDet/NMS/add_21', 'MSDeepDet/NMS/Slice_10/begin', 'MSDeepDet/NMS/Slice_10/size/0', 'MSDeepDet/NMS/Slice_10/size/3', 'MSDeepDet/NMS/Slice_10/size', 'MSDeepDet/NMS/Slice_10', 'MSDeepDet/NMS/add_22/y', 'MSDeepDet/NMS/add_22', 'MSDeepDet/NMS/add_23/y', 'MSDeepDet/NMS/add_23', 'MSDeepDet/NMS/Slice_11/begin', 'MSDeepDet/NMS/Slice_11/size/0', 'MSDeepDet/NMS/Slice_11/size/3', 'MSDeepDet/NMS/Slice_11/size', 'MSDeepDet/NMS/Slice_11', 'MSDeepDet/NMS/add_24/y', 'MSDeepDet/NMS/add_24', 'MSDeepDet/NMS/add_25/y', 'MSDeepDet/NMS/add_25', 'MSDeepDet/NMS/Slice_12/begin', 'MSDeepDet/NMS/Slice_12/size/0', 'MSDeepDet/NMS/Slice_12/size/3', 'MSDeepDet/NMS/Slice_12/size', 'MSDeepDet/NMS/Slice_12', 'MSDeepDet/NMS/add_26/y', 'MSDeepDet/NMS/add_26', 'MSDeepDet/NMS/add_27/y', 'MSDeepDet/NMS/add_27', 'MSDeepDet/NMS/Slice_13/begin', 'MSDeepDet/NMS/Slice_13/size/0', 'MSDeepDet/NMS/Slice_13/size/3', 'MSDeepDet/NMS/Slice_13/size', 'MSDeepDet/NMS/Slice_13', 'MSDeepDet/NMS/add_28/y', 'MSDeepDet/NMS/add_28', 'MSDeepDet/NMS/add_29/y', 'MSDeepDet/NMS/add_29', 'MSDeepDet/NMS/Slice_14/begin', 'MSDeepDet/NMS/Slice_14/size/0', 'MSDeepDet/NMS/Slice_14/size/3', 'MSDeepDet/NMS/Slice_14/size', 'MSDeepDet/NMS/Slice_14', 'MSDeepDet/NMS/add_30/y', 'MSDeepDet/NMS/add_30', 'MSDeepDet/NMS/add_31/y', 'MSDeepDet/NMS/add_31', 'MSDeepDet/NMS/Slice_15/begin', 'MSDeepDet/NMS/Slice_15/size/0', 'MSDeepDet/NMS/Slice_15/size/3', 'MSDeepDet/NMS/Slice_15/size', 'MSDeepDet/NMS/Slice_15', 'MSDeepDet/NMS/add_32/y', 'MSDeepDet/NMS/add_32', 'MSDeepDet/NMS/add_33/y', 'MSDeepDet/NMS/add_33', 'MSDeepDet/NMS/Slice_16/begin', 'MSDeepDet/NMS/Slice_16/size/0', 'MSDeepDet/NMS/Slice_16/size/3', 'MSDeepDet/NMS/Slice_16/size', 'MSDeepDet/NMS/Slice_16', 'MSDeepDet/NMS/add_34/y', 'MSDeepDet/NMS/add_34', 'MSDeepDet/NMS/add_35/y', 'MSDeepDet/NMS/add_35', 'MSDeepDet/NMS/Slice_17/begin', 'MSDeepDet/NMS/Slice_17/size/0', 'MSDeepDet/NMS/Slice_17/size/3', 'MSDeepDet/NMS/Slice_17/size', 'MSDeepDet/NMS/Slice_17', 'MSDeepDet/NMS/add_36/y', 'MSDeepDet/NMS/add_36', 'MSDeepDet/NMS/add_37/y', 'MSDeepDet/NMS/add_37', 'MSDeepDet/NMS/Slice_18/begin', 'MSDeepDet/NMS/Slice_18/size/0', 'MSDeepDet/NMS/Slice_18/size/3', 'MSDeepDet/NMS/Slice_18/size', 'MSDeepDet/NMS/Slice_18', 'MSDeepDet/NMS/add_38/y', 'MSDeepDet/NMS/add_38', 'MSDeepDet/NMS/add_39/y', 'MSDeepDet/NMS/add_39', 'MSDeepDet/NMS/Slice_19/begin', 'MSDeepDet/NMS/Slice_19/size/0', 'MSDeepDet/NMS/Slice_19/size/3', 'MSDeepDet/NMS/Slice_19/size', 'MSDeepDet/NMS/Slice_19', 'MSDeepDet/NMS/add_40/y', 'MSDeepDet/NMS/add_40', 'MSDeepDet/NMS/add_41/y', 'MSDeepDet/NMS/add_41', 'MSDeepDet/NMS/Slice_20/begin', 'MSDeepDet/NMS/Slice_20/size/0', 'MSDeepDet/NMS/Slice_20/size/3', 'MSDeepDet/NMS/Slice_20/size', 'MSDeepDet/NMS/Slice_20', 'MSDeepDet/NMS/add_42/y', 'MSDeepDet/NMS/add_42', 'MSDeepDet/NMS/add_43/y', 'MSDeepDet/NMS/add_43', 'MSDeepDet/NMS/Slice_21/begin', 'MSDeepDet/NMS/Slice_21/size/0', 'MSDeepDet/NMS/Slice_21/size/3', 'MSDeepDet/NMS/Slice_21/size', 'MSDeepDet/NMS/Slice_21', 'MSDeepDet/NMS/add_44/y', 'MSDeepDet/NMS/add_44', 'MSDeepDet/NMS/add_45/y', 'MSDeepDet/NMS/add_45', 'MSDeepDet/NMS/Slice_22/begin', 'MSDeepDet/NMS/Slice_22/size/0', 'MSDeepDet/NMS/Slice_22/size/3', 'MSDeepDet/NMS/Slice_22/size', 'MSDeepDet/NMS/Slice_22', 'MSDeepDet/NMS/add_46/y', 'MSDeepDet/NMS/add_46', 'MSDeepDet/NMS/add_47/y', 'MSDeepDet/NMS/add_47', 'MSDeepDet/NMS/Slice_23/begin', 'MSDeepDet/NMS/Slice_23/size/0', 'MSDeepDet/NMS/Slice_23/size/3', 'MSDeepDet/NMS/Slice_23/size', 'MSDeepDet/NMS/Slice_23', 'MSDeepDet/NMS/add_48/y', 'MSDeepDet/NMS/add_48', 'MSDeepDet/NMS/add_49/y', 'MSDeepDet/NMS/add_49', 'MSDeepDet/NMS/Slice_24/begin', 'MSDeepDet/NMS/Slice_24/size/0', 'MSDeepDet/NMS/Slice_24/size/3', 'MSDeepDet/NMS/Slice_24/size', 'MSDeepDet/NMS/Slice_24', 'MSDeepDet/NMS/Greater', 'MSDeepDet/NMS/Greater_1', 'MSDeepDet/NMS/LogicalAnd', 'MSDeepDet/NMS/Greater_2', 'MSDeepDet/NMS/LogicalAnd_1', 'MSDeepDet/NMS/Greater_3', 'MSDeepDet/NMS/LogicalAnd_2', 'MSDeepDet/NMS/Greater_4', 'MSDeepDet/NMS/LogicalAnd_3', 'MSDeepDet/NMS/Greater_5', 'MSDeepDet/NMS/LogicalAnd_4', 'MSDeepDet/NMS/Greater_6', 'MSDeepDet/NMS/LogicalAnd_5', 'MSDeepDet/NMS/Greater_7', 'MSDeepDet/NMS/LogicalAnd_6', 'MSDeepDet/NMS/Greater_8', 'MSDeepDet/NMS/LogicalAnd_7', 'MSDeepDet/NMS/Greater_9', 'MSDeepDet/NMS/LogicalAnd_8', 'MSDeepDet/NMS/Greater_10', 'MSDeepDet/NMS/LogicalAnd_9', 'MSDeepDet/NMS/Greater_11', 'MSDeepDet/NMS/LogicalAnd_10', 'MSDeepDet/NMS/Greater_12', 'MSDeepDet/NMS/LogicalAnd_11', 'MSDeepDet/NMS/Greater_13', 'MSDeepDet/NMS/LogicalAnd_12', 'MSDeepDet/NMS/Greater_14', 'MSDeepDet/NMS/LogicalAnd_13', 'MSDeepDet/NMS/Greater_15', 'MSDeepDet/NMS/LogicalAnd_14', 'MSDeepDet/NMS/Greater_16', 'MSDeepDet/NMS/LogicalAnd_15', 'MSDeepDet/NMS/Greater_17', 'MSDeepDet/NMS/LogicalAnd_16', 'MSDeepDet/NMS/Greater_18', 'MSDeepDet/NMS/LogicalAnd_17', 'MSDeepDet/NMS/Greater_19', 'MSDeepDet/NMS/LogicalAnd_18', 'MSDeepDet/NMS/Greater_20', 'MSDeepDet/NMS/LogicalAnd_19', 'MSDeepDet/NMS/Greater_21', 'MSDeepDet/NMS/LogicalAnd_20', 'MSDeepDet/NMS/Greater_22', 'MSDeepDet/NMS/LogicalAnd_21', 'MSDeepDet/NMS/Greater_23', 'MSDeepDet/NMS/LogicalAnd_22', 'MSDeepDet/NMS/Slice_25/begin', 'MSDeepDet/NMS/Slice_25/size/0', 'MSDeepDet/NMS/Slice_25/size/3', 'MSDeepDet/NMS/Slice_25/size', 'MSDeepDet/NMS/Slice_25', 'MSDeepDet/NMS/Cast', 'MSDeepDet/mul_6', 'MSDeepDet/mul_7', 'MSDeepDet/Shape_3', 'MSDeepDet/strided_slice_8/stack', 'MSDeepDet/strided_slice_8/stack_1', 'MSDeepDet/strided_slice_8/stack_2', 'MSDeepDet/strided_slice_8', 'MSDeepDet/Shape_4', 'MSDeepDet/strided_slice_9/stack', 'MSDeepDet/strided_slice_9/stack_1', 'MSDeepDet/strided_slice_9/stack_2', 'MSDeepDet/strided_slice_9', 'MSDeepDet/Shape_5', 'MSDeepDet/strided_slice_10/stack', 'MSDeepDet/strided_slice_10/stack_1', 'MSDeepDet/strided_slice_10/stack_2', 'MSDeepDet/strided_slice_10', 'MSDeepDet/Reshape_1/shape/1', 'MSDeepDet/Reshape_1/shape', 'MSDeepDet/Reshape_1', 'MSDeepDet/Shape_6', 'MSDeepDet/strided_slice_11/stack', 'MSDeepDet/strided_slice_11/stack_1', 'MSDeepDet/strided_slice_11/stack_2', 'MSDeepDet/strided_slice_11', 'MSDeepDet/TopKV2/k', 'MSDeepDet/TopKV2', 'MSDeepDet/range/start', 'MSDeepDet/range/delta', 'MSDeepDet/range', 'MSDeepDet/mul_8', 'MSDeepDet/ExpandDims/dim', 'MSDeepDet/ExpandDims', 'MSDeepDet/add_3', 'MSDeepDet/Reshape_2/shape', 'MSDeepDet/Reshape_2', 'MSDeepDet/mul_9', 'MSDeepDet/SparseToDense/output_shape', 'MSDeepDet/SparseToDense/sparse_values', 'MSDeepDet/SparseToDense/default_value', 'MSDeepDet/SparseToDense', 'MSDeepDet/Reshape_3/shape/3', 'MSDeepDet/Reshape_3/shape', 'MSDeepDet/Reshape_3', 'MSDeepDet/Cast', 'MSDeepDet/mul_10', 'MSDeepDet/StopGradient', 'MSDeepDet/Greater/y', 'MSDeepDet/Greater', 'MSDeepDet/Where', 'MSDeepDet/Sum_4/reduction_indices', 'MSDeepDet/Sum_4', 'MSDeepDet/Cast_1', 'MSDeepDet/Const_2', 'MSDeepDet/split/split_dim', 'MSDeepDet/split', 'MSDeepDet/Reshape_4/shape', 'MSDeepDet/Reshape_4', 'MSDeepDet/concat_1/axis', 'MSDeepDet/concat_1', 'MSDeepDet/Cast_2', 'MSDeepDet/Const_3', 'MSDeepDet/split_1/split_dim', 'MSDeepDet/split_1', 'MSDeepDet/strided_slice_12/stack', 'MSDeepDet/strided_slice_12/stack_1', 'MSDeepDet/strided_slice_12/stack_2', 'MSDeepDet/strided_slice_12', 'MSDeepDet/concat_2/axis', 'MSDeepDet/concat_2', 'MSDeepDet/GatherNd', 'MSDeepDet/Const_4', 'MSDeepDet/split_2/split_dim', 'MSDeepDet/split_2', 'MSDeepDet/strided_slice_13/stack', 'MSDeepDet/strided_slice_13/stack_1', 'MSDeepDet/strided_slice_13/stack_2', 'MSDeepDet/strided_slice_13', 'MSDeepDet/concat_3/axis', 'MSDeepDet/concat_3', 'MSDeepDet/GatherNd_1', 'MSDeepDet/SpatialTransformCropper/Shape', 'MSDeepDet/SpatialTransformCropper/strided_slice/stack', 'MSDeepDet/SpatialTransformCropper/strided_slice/stack_1', 'MSDeepDet/SpatialTransformCropper/strided_slice/stack_2', 'MSDeepDet/SpatialTransformCropper/strided_slice', 'MSDeepDet/SpatialTransformCropper/Shape_1', 'MSDeepDet/SpatialTransformCropper/strided_slice_1/stack', 'MSDeepDet/SpatialTransformCropper/strided_slice_1/stack_1', 'MSDeepDet/SpatialTransformCropper/strided_slice_1/stack_2', 'MSDeepDet/SpatialTransformCropper/strided_slice_1', 'MSDeepDet/SpatialTransformCropper/Shape_2', 'MSDeepDet/SpatialTransformCropper/strided_slice_2/stack', 'MSDeepDet/SpatialTransformCropper/strided_slice_2/stack_1', 'MSDeepDet/SpatialTransformCropper/strided_slice_2/stack_2', 'MSDeepDet/SpatialTransformCropper/strided_slice_2', 'MSDeepDet/SpatialTransformCropper/Shape_3', 'MSDeepDet/SpatialTransformCropper/strided_slice_3/stack', 'MSDeepDet/SpatialTransformCropper/strided_slice_3/stack_1', 'MSDeepDet/SpatialTransformCropper/strided_slice_3/stack_2', 'MSDeepDet/SpatialTransformCropper/strided_slice_3', 'MSDeepDet/SpatialTransformCropper/Shape_4', 'MSDeepDet/SpatialTransformCropper/strided_slice_4/stack', 'MSDeepDet/SpatialTransformCropper/strided_slice_4/stack_1', 'MSDeepDet/SpatialTransformCropper/strided_slice_4/stack_2', 'MSDeepDet/SpatialTransformCropper/strided_slice_4', 'MSDeepDet/SpatialTransformCropper/zeros', 'MSDeepDet/SpatialTransformCropper/Shape_5', 'MSDeepDet/SpatialTransformCropper/strided_slice_5/stack', 'MSDeepDet/SpatialTransformCropper/strided_slice_5/stack_1', 'MSDeepDet/SpatialTransformCropper/strided_slice_5/stack_2', 'MSDeepDet/SpatialTransformCropper/strided_slice_5', 'MSDeepDet/SpatialTransformCropper/sub/y', 'MSDeepDet/SpatialTransformCropper/sub', 'MSDeepDet/SpatialTransformCropper/Shape_6', 'MSDeepDet/SpatialTransformCropper/strided_slice_6/stack', 'MSDeepDet/SpatialTransformCropper/strided_slice_6/stack_1', 'MSDeepDet/SpatialTransformCropper/strided_slice_6/stack_2', 'MSDeepDet/SpatialTransformCropper/strided_slice_6', 'MSDeepDet/SpatialTransformCropper/sub_1/y', 'MSDeepDet/SpatialTransformCropper/sub_1', 'MSDeepDet/SpatialTransformCropper/meshgrid/stack', 'MSDeepDet/SpatialTransformCropper/meshgrid/ones/Const', 'MSDeepDet/SpatialTransformCropper/meshgrid/ones', 'MSDeepDet/SpatialTransformCropper/meshgrid/LinSpace/start', 'MSDeepDet/SpatialTransformCropper/meshgrid/LinSpace/stop', 'MSDeepDet/SpatialTransformCropper/meshgrid/LinSpace/num', 'MSDeepDet/SpatialTransformCropper/meshgrid/LinSpace', 'MSDeepDet/SpatialTransformCropper/meshgrid/ExpandDims/dim', 'MSDeepDet/SpatialTransformCropper/meshgrid/ExpandDims', 'MSDeepDet/SpatialTransformCropper/meshgrid/transpose/perm', 'MSDeepDet/SpatialTransformCropper/meshgrid/transpose', 'MSDeepDet/SpatialTransformCropper/meshgrid/MatMul', 'MSDeepDet/SpatialTransformCropper/meshgrid/LinSpace_1/start', 'MSDeepDet/SpatialTransformCropper/meshgrid/LinSpace_1/stop', 'MSDeepDet/SpatialTransformCropper/meshgrid/LinSpace_1/num', 'MSDeepDet/SpatialTransformCropper/meshgrid/LinSpace_1', 'MSDeepDet/SpatialTransformCropper/meshgrid/ExpandDims_1/dim', 'MSDeepDet/SpatialTransformCropper/meshgrid/ExpandDims_1', 'MSDeepDet/SpatialTransformCropper/meshgrid/stack_1', 'MSDeepDet/SpatialTransformCropper/meshgrid/ones_1/Const', 'MSDeepDet/SpatialTransformCropper/meshgrid/ones_1', 'MSDeepDet/SpatialTransformCropper/meshgrid/MatMul_1', 'MSDeepDet/SpatialTransformCropper/meshgrid/Reshape/shape', 'MSDeepDet/SpatialTransformCropper/meshgrid/Reshape', 'MSDeepDet/SpatialTransformCropper/meshgrid/Reshape_1/shape', 'MSDeepDet/SpatialTransformCropper/meshgrid/Reshape_1', 'MSDeepDet/SpatialTransformCropper/meshgrid/ones_like/Shape', 'MSDeepDet/SpatialTransformCropper/meshgrid/ones_like/Const', 'MSDeepDet/SpatialTransformCropper/meshgrid/ones_like', 'MSDeepDet/SpatialTransformCropper/meshgrid/concat/axis', 'MSDeepDet/SpatialTransformCropper/meshgrid/concat', 'MSDeepDet/SpatialTransformCropper/ExpandDims/dim', 'MSDeepDet/SpatialTransformCropper/ExpandDims', 'MSDeepDet/SpatialTransformCropper/Reshape/shape', 'MSDeepDet/SpatialTransformCropper/Reshape', 'MSDeepDet/SpatialTransformCropper/stack', 'MSDeepDet/SpatialTransformCropper/Tile', 'MSDeepDet/SpatialTransformCropper/stack_1/1', 'MSDeepDet/SpatialTransformCropper/stack_1/2', 'MSDeepDet/SpatialTransformCropper/stack_1', 'MSDeepDet/SpatialTransformCropper/Reshape_1', 'MSDeepDet/SpatialTransformCropper/eye/ones', 'MSDeepDet/SpatialTransformCropper/eye/zeros', 'MSDeepDet/SpatialTransformCropper/eye/MatrixSetDiag', 'MSDeepDet/SpatialTransformCropper/strided_slice_7/stack', 'MSDeepDet/SpatialTransformCropper/strided_slice_7/stack_1', 'MSDeepDet/SpatialTransformCropper/strided_slice_7/stack_2', 'MSDeepDet/SpatialTransformCropper/strided_slice_7', 'MSDeepDet/SpatialTransformCropper/Tile_1/multiples/1', 'MSDeepDet/SpatialTransformCropper/Tile_1/multiples/2', 'MSDeepDet/SpatialTransformCropper/Tile_1/multiples', 'MSDeepDet/SpatialTransformCropper/Tile_1', 'MSDeepDet/SpatialTransformCropper/strided_slice_8/stack', 'MSDeepDet/SpatialTransformCropper/strided_slice_8/stack_1', 'MSDeepDet/SpatialTransformCropper/strided_slice_8/stack_2', 'MSDeepDet/SpatialTransformCropper/strided_slice_8', 'MSDeepDet/SpatialTransformCropper/mul', 'MSDeepDet/SpatialTransformCropper/Const', 'MSDeepDet/SpatialTransformCropper/Tile_2/multiples/1', 'MSDeepDet/SpatialTransformCropper/Tile_2/multiples/2', 'MSDeepDet/SpatialTransformCropper/Tile_2/multiples', 'MSDeepDet/SpatialTransformCropper/Tile_2', 'MSDeepDet/SpatialTransformCropper/concat/axis', 'MSDeepDet/SpatialTransformCropper/concat', 'MSDeepDet/SpatialTransformCropper/MatMul', 'MSDeepDet/SpatialTransformCropper/Slice/begin', 'MSDeepDet/SpatialTransformCropper/Slice/size', 'MSDeepDet/SpatialTransformCropper/Slice', 'MSDeepDet/SpatialTransformCropper/Slice_1/begin', 'MSDeepDet/SpatialTransformCropper/Slice_1/size', 'MSDeepDet/SpatialTransformCropper/Slice_1', 'MSDeepDet/SpatialTransformCropper/mul_1/y', 'MSDeepDet/SpatialTransformCropper/mul_1', 'MSDeepDet/SpatialTransformCropper/truediv/y', 'MSDeepDet/SpatialTransformCropper/truediv', 'MSDeepDet/SpatialTransformCropper/mul_2/y', 'MSDeepDet/SpatialTransformCropper/mul_2', 'MSDeepDet/SpatialTransformCropper/truediv_1/y', 'MSDeepDet/SpatialTransformCropper/truediv_1', 'MSDeepDet/SpatialTransformCropper/Cast_2', 'MSDeepDet/SpatialTransformCropper/Slice_2/begin', 'MSDeepDet/SpatialTransformCropper/Slice_2/size', 'MSDeepDet/SpatialTransformCropper/Slice_2', 'MSDeepDet/SpatialTransformCropper/ExpandDims_1/dim', 'MSDeepDet/SpatialTransformCropper/ExpandDims_1', 'MSDeepDet/SpatialTransformCropper/Slice_3/begin', 'MSDeepDet/SpatialTransformCropper/Slice_3/size', 'MSDeepDet/SpatialTransformCropper/Slice_3', 'MSDeepDet/SpatialTransformCropper/ExpandDims_2/dim', 'MSDeepDet/SpatialTransformCropper/ExpandDims_2', 'MSDeepDet/SpatialTransformCropper/add', 'MSDeepDet/SpatialTransformCropper/add_1', 'MSDeepDet/SpatialTransformCropper/Reshape_2/shape', 'MSDeepDet/SpatialTransformCropper/Reshape_2', 'MSDeepDet/SpatialTransformCropper/Reshape_3/shape', 'MSDeepDet/SpatialTransformCropper/Reshape_3', 'MSDeepDet/SpatialTransformCropper/Floor', 'MSDeepDet/SpatialTransformCropper/Cast_3', 'MSDeepDet/SpatialTransformCropper/add_2/y', 'MSDeepDet/SpatialTransformCropper/add_2', 'MSDeepDet/SpatialTransformCropper/Floor_1', 'MSDeepDet/SpatialTransformCropper/Cast_4', 'MSDeepDet/SpatialTransformCropper/add_3/y', 'MSDeepDet/SpatialTransformCropper/add_3', 'MSDeepDet/SpatialTransformCropper/clip_by_value', 'MSDeepDet/SpatialTransformCropper/clip_by_value_1', 'MSDeepDet/SpatialTransformCropper/clip_by_value_2', 'MSDeepDet/SpatialTransformCropper/clip_by_value_3', 'MSDeepDet/SpatialTransformCropper/mul_3', 'MSDeepDet/SpatialTransformCropper/strided_slice_9/stack', 'MSDeepDet/SpatialTransformCropper/strided_slice_9/stack_1', 'MSDeepDet/SpatialTransformCropper/strided_slice_9/stack_2', 'MSDeepDet/SpatialTransformCropper/strided_slice_9', 'MSDeepDet/SpatialTransformCropper/Tile_3/multiples', 'MSDeepDet/SpatialTransformCropper/Tile_3', 'MSDeepDet/SpatialTransformCropper/Reshape_4/shape', 'MSDeepDet/SpatialTransformCropper/Reshape_4', 'MSDeepDet/SpatialTransformCropper/mul_4', 'MSDeepDet/SpatialTransformCropper/mul_5', 'MSDeepDet/SpatialTransformCropper/add_4', 'MSDeepDet/SpatialTransformCropper/mul_6', 'MSDeepDet/SpatialTransformCropper/add_5', 'MSDeepDet/SpatialTransformCropper/add_6', 'MSDeepDet/SpatialTransformCropper/add_7', 'MSDeepDet/SpatialTransformCropper/add_8', 'MSDeepDet/SpatialTransformCropper/add_9', 'MSDeepDet/SpatialTransformCropper/stack_2/0', 'MSDeepDet/SpatialTransformCropper/stack_2', 'MSDeepDet/SpatialTransformCropper/Reshape_5', 'MSDeepDet/SpatialTransformCropper/GatherV2/axis', 'MSDeepDet/SpatialTransformCropper/GatherV2', 'MSDeepDet/SpatialTransformCropper/GatherV2_1/axis', 'MSDeepDet/SpatialTransformCropper/GatherV2_1', 'MSDeepDet/SpatialTransformCropper/GatherV2_2/axis', 'MSDeepDet/SpatialTransformCropper/GatherV2_2', 'MSDeepDet/SpatialTransformCropper/GatherV2_3/axis', 'MSDeepDet/SpatialTransformCropper/GatherV2_3', 'MSDeepDet/SpatialTransformCropper/Cast_6', 'MSDeepDet/SpatialTransformCropper/Cast_7', 'MSDeepDet/SpatialTransformCropper/Cast_8', 'MSDeepDet/SpatialTransformCropper/Cast_9', 'MSDeepDet/SpatialTransformCropper/sub_2', 'MSDeepDet/SpatialTransformCropper/sub_3', 'MSDeepDet/SpatialTransformCropper/mul_7', 'MSDeepDet/SpatialTransformCropper/ExpandDims_3/dim', 'MSDeepDet/SpatialTransformCropper/ExpandDims_3', 'MSDeepDet/SpatialTransformCropper/sub_4', 'MSDeepDet/SpatialTransformCropper/sub_5', 'MSDeepDet/SpatialTransformCropper/mul_8', 'MSDeepDet/SpatialTransformCropper/ExpandDims_4/dim', 'MSDeepDet/SpatialTransformCropper/ExpandDims_4', 'MSDeepDet/SpatialTransformCropper/sub_6', 'MSDeepDet/SpatialTransformCropper/sub_7', 'MSDeepDet/SpatialTransformCropper/mul_9', 'MSDeepDet/SpatialTransformCropper/ExpandDims_5/dim', 'MSDeepDet/SpatialTransformCropper/ExpandDims_5', 'MSDeepDet/SpatialTransformCropper/sub_8', 'MSDeepDet/SpatialTransformCropper/sub_9', 'MSDeepDet/SpatialTransformCropper/mul_10', 'MSDeepDet/SpatialTransformCropper/ExpandDims_6/dim', 'MSDeepDet/SpatialTransformCropper/ExpandDims_6', 'MSDeepDet/SpatialTransformCropper/mul_11', 'MSDeepDet/SpatialTransformCropper/mul_12', 'MSDeepDet/SpatialTransformCropper/mul_13', 'MSDeepDet/SpatialTransformCropper/mul_14', 'MSDeepDet/SpatialTransformCropper/AddN', 'MSDeepDet/SpatialTransformCropper/stack_3/1', 'MSDeepDet/SpatialTransformCropper/stack_3/2', 'MSDeepDet/SpatialTransformCropper/stack_3', 'MSDeepDet/SpatialTransformCropper/Reshape_6', 'MSDeepDet/stack_2', 'MSDeepDet/ones_2/Const', 'MSDeepDet/ones_2', 'MSDeepDet/LinSpace/start', 'MSDeepDet/LinSpace/stop', 'MSDeepDet/LinSpace/num', 'MSDeepDet/LinSpace', 'MSDeepDet/ExpandDims_1/dim', 'MSDeepDet/ExpandDims_1', 'MSDeepDet/transpose_4/perm', 'MSDeepDet/transpose_4', 'MSDeepDet/MatMul', 'MSDeepDet/LinSpace_1/start', 'MSDeepDet/LinSpace_1/stop', 'MSDeepDet/LinSpace_1/num', 'MSDeepDet/LinSpace_1', 'MSDeepDet/ExpandDims_2/dim', 'MSDeepDet/ExpandDims_2', 'MSDeepDet/stack_3', 'MSDeepDet/ones_3/Const', 'MSDeepDet/ones_3', 'MSDeepDet/MatMul_1', 'MSDeepDet/stack_4', 'MSDeepDet/strided_slice_14/stack', 'MSDeepDet/strided_slice_14/stack_1', 'MSDeepDet/strided_slice_14/stack_2', 'MSDeepDet/strided_slice_14', 'MSDeepDet/Max_2/reduction_indices', 'MSDeepDet/Max_2', 'MSDeepDet/sub_7', 'MSDeepDet/mul_11/x', 'MSDeepDet/mul_11', 'MSDeepDet/Exp_3', 'MSDeepDet/Sum_5/reduction_indices', 'MSDeepDet/Sum_5', 'MSDeepDet/add_4/y', 'MSDeepDet/add_4', 'MSDeepDet/truediv_3', 'MSDeepDet/mul_12', 'MSDeepDet/Sum_6/reduction_indices', 'MSDeepDet/Sum_6', 'MSDeepDet/dxdy/tag', 'MSDeepDet/dxdy', 'MSDeepDet/ToFloat', 'MSDeepDet/strided_slice_15/stack', 'MSDeepDet/strided_slice_15/stack_1', 'MSDeepDet/strided_slice_15/stack_2', 'MSDeepDet/strided_slice_15', 'MSDeepDet/mul_13', 'MSDeepDet/mul_14/y', 'MSDeepDet/mul_14', 'MSDeepDet/truediv_4/y', 'MSDeepDet/truediv_4', 'MSDeepDet/add_5', 'PatchExtract/Identity', 'PatchExtract/SpatialTransformCropper/Shape', 'PatchExtract/SpatialTransformCropper/strided_slice/stack', 'PatchExtract/SpatialTransformCropper/strided_slice/stack_1', 'PatchExtract/SpatialTransformCropper/strided_slice/stack_2', 'PatchExtract/SpatialTransformCropper/strided_slice', 'PatchExtract/SpatialTransformCropper/Shape_1', 'PatchExtract/SpatialTransformCropper/strided_slice_1/stack', 'PatchExtract/SpatialTransformCropper/strided_slice_1/stack_1', 'PatchExtract/SpatialTransformCropper/strided_slice_1/stack_2', 'PatchExtract/SpatialTransformCropper/strided_slice_1', 'PatchExtract/SpatialTransformCropper/Shape_2', 'PatchExtract/SpatialTransformCropper/strided_slice_2/stack', 'PatchExtract/SpatialTransformCropper/strided_slice_2/stack_1', 'PatchExtract/SpatialTransformCropper/strided_slice_2/stack_2', 'PatchExtract/SpatialTransformCropper/strided_slice_2', 'PatchExtract/SpatialTransformCropper/Shape_3', 'PatchExtract/SpatialTransformCropper/strided_slice_3/stack', 'PatchExtract/SpatialTransformCropper/strided_slice_3/stack_1', 'PatchExtract/SpatialTransformCropper/strided_slice_3/stack_2', 'PatchExtract/SpatialTransformCropper/strided_slice_3', 'PatchExtract/SpatialTransformCropper/Shape_4', 'PatchExtract/SpatialTransformCropper/strided_slice_4/stack', 'PatchExtract/SpatialTransformCropper/strided_slice_4/stack_1', 'PatchExtract/SpatialTransformCropper/strided_slice_4/stack_2', 'PatchExtract/SpatialTransformCropper/strided_slice_4', 'PatchExtract/SpatialTransformCropper/zeros', 'PatchExtract/SpatialTransformCropper/Shape_5', 'PatchExtract/SpatialTransformCropper/strided_slice_5/stack', 'PatchExtract/SpatialTransformCropper/strided_slice_5/stack_1', 'PatchExtract/SpatialTransformCropper/strided_slice_5/stack_2', 'PatchExtract/SpatialTransformCropper/strided_slice_5', 'PatchExtract/SpatialTransformCropper/sub/y', 'PatchExtract/SpatialTransformCropper/sub', 'PatchExtract/SpatialTransformCropper/Shape_6', 'PatchExtract/SpatialTransformCropper/strided_slice_6/stack', 'PatchExtract/SpatialTransformCropper/strided_slice_6/stack_1', 'PatchExtract/SpatialTransformCropper/strided_slice_6/stack_2', 'PatchExtract/SpatialTransformCropper/strided_slice_6', 'PatchExtract/SpatialTransformCropper/sub_1/y', 'PatchExtract/SpatialTransformCropper/sub_1', 'PatchExtract/SpatialTransformCropper/meshgrid/stack', 'PatchExtract/SpatialTransformCropper/meshgrid/ones/Const', 'PatchExtract/SpatialTransformCropper/meshgrid/ones', 'PatchExtract/SpatialTransformCropper/meshgrid/LinSpace/start', 'PatchExtract/SpatialTransformCropper/meshgrid/LinSpace/stop', 'PatchExtract/SpatialTransformCropper/meshgrid/LinSpace/num', 'PatchExtract/SpatialTransformCropper/meshgrid/LinSpace', 'PatchExtract/SpatialTransformCropper/meshgrid/ExpandDims/dim', 'PatchExtract/SpatialTransformCropper/meshgrid/ExpandDims', 'PatchExtract/SpatialTransformCropper/meshgrid/transpose/perm', 'PatchExtract/SpatialTransformCropper/meshgrid/transpose', 'PatchExtract/SpatialTransformCropper/meshgrid/MatMul', 'PatchExtract/SpatialTransformCropper/meshgrid/LinSpace_1/start', 'PatchExtract/SpatialTransformCropper/meshgrid/LinSpace_1/stop', 'PatchExtract/SpatialTransformCropper/meshgrid/LinSpace_1/num', 'PatchExtract/SpatialTransformCropper/meshgrid/LinSpace_1', 'PatchExtract/SpatialTransformCropper/meshgrid/ExpandDims_1/dim', 'PatchExtract/SpatialTransformCropper/meshgrid/ExpandDims_1', 'PatchExtract/SpatialTransformCropper/meshgrid/stack_1', 'PatchExtract/SpatialTransformCropper/meshgrid/ones_1/Const', 'PatchExtract/SpatialTransformCropper/meshgrid/ones_1', 'PatchExtract/SpatialTransformCropper/meshgrid/MatMul_1', 'PatchExtract/SpatialTransformCropper/meshgrid/Reshape/shape', 'PatchExtract/SpatialTransformCropper/meshgrid/Reshape', 'PatchExtract/SpatialTransformCropper/meshgrid/Reshape_1/shape', 'PatchExtract/SpatialTransformCropper/meshgrid/Reshape_1', 'PatchExtract/SpatialTransformCropper/meshgrid/ones_like/Shape', 'PatchExtract/SpatialTransformCropper/meshgrid/ones_like/Const', 'PatchExtract/SpatialTransformCropper/meshgrid/ones_like', 'PatchExtract/SpatialTransformCropper/meshgrid/concat/axis', 'PatchExtract/SpatialTransformCropper/meshgrid/concat', 'PatchExtract/SpatialTransformCropper/ExpandDims/dim', 'PatchExtract/SpatialTransformCropper/ExpandDims', 'PatchExtract/SpatialTransformCropper/Reshape/shape', 'PatchExtract/SpatialTransformCropper/Reshape', 'PatchExtract/SpatialTransformCropper/stack', 'PatchExtract/SpatialTransformCropper/Tile', 'PatchExtract/SpatialTransformCropper/stack_1/1', 'PatchExtract/SpatialTransformCropper/stack_1/2', 'PatchExtract/SpatialTransformCropper/stack_1', 'PatchExtract/SpatialTransformCropper/Reshape_1', 'PatchExtract/SpatialTransformCropper/eye/ones', 'PatchExtract/SpatialTransformCropper/eye/zeros', 'PatchExtract/SpatialTransformCropper/eye/MatrixSetDiag', 'PatchExtract/SpatialTransformCropper/strided_slice_7/stack', 'PatchExtract/SpatialTransformCropper/strided_slice_7/stack_1', 'PatchExtract/SpatialTransformCropper/strided_slice_7/stack_2', 'PatchExtract/SpatialTransformCropper/strided_slice_7', 'PatchExtract/SpatialTransformCropper/Tile_1/multiples/1', 'PatchExtract/SpatialTransformCropper/Tile_1/multiples/2', 'PatchExtract/SpatialTransformCropper/Tile_1/multiples', 'PatchExtract/SpatialTransformCropper/Tile_1', 'PatchExtract/SpatialTransformCropper/strided_slice_8/stack', 'PatchExtract/SpatialTransformCropper/strided_slice_8/stack_1', 'PatchExtract/SpatialTransformCropper/strided_slice_8/stack_2', 'PatchExtract/SpatialTransformCropper/strided_slice_8', 'PatchExtract/SpatialTransformCropper/mul', 'PatchExtract/SpatialTransformCropper/Const', 'PatchExtract/SpatialTransformCropper/Tile_2/multiples/1', 'PatchExtract/SpatialTransformCropper/Tile_2/multiples/2', 'PatchExtract/SpatialTransformCropper/Tile_2/multiples', 'PatchExtract/SpatialTransformCropper/Tile_2', 'PatchExtract/SpatialTransformCropper/concat/axis', 'PatchExtract/SpatialTransformCropper/concat', 'PatchExtract/SpatialTransformCropper/Slice/begin', 'PatchExtract/SpatialTransformCropper/Slice/size', 'PatchExtract/SpatialTransformCropper/Slice', 'PatchExtract/SpatialTransformCropper/Slice_1/begin', 'PatchExtract/SpatialTransformCropper/Slice_1/size', 'PatchExtract/SpatialTransformCropper/Slice_1', 'PatchExtract/SpatialTransformCropper/zeros_like', 'PatchExtract/SpatialTransformCropper/ones_like/Shape', 'PatchExtract/SpatialTransformCropper/ones_like/Const', 'PatchExtract/SpatialTransformCropper/ones_like', 'PatchExtract/SpatialTransformCropper/Neg', 'PatchExtract/SpatialTransformCropper/concat_1/axis', 'PatchExtract/SpatialTransformCropper/concat_1', 'PatchExtract/SpatialTransformCropper/Reshape_2/shape', 'PatchExtract/SpatialTransformCropper/Reshape_2', 'PatchExtract/SpatialTransformCropper/MatMul', 'PatchExtract/SpatialTransformCropper/MatMul_1', 'PatchExtract/SpatialTransformCropper/Slice_2/begin', 'PatchExtract/SpatialTransformCropper/Slice_2/size', 'PatchExtract/SpatialTransformCropper/Slice_2', 'PatchExtract/SpatialTransformCropper/Slice_3/begin', 'PatchExtract/SpatialTransformCropper/Slice_3/size', 'PatchExtract/SpatialTransformCropper/Slice_3', 'PatchExtract/SpatialTransformCropper/mul_1/y', 'PatchExtract/SpatialTransformCropper/mul_1', 'PatchExtract/SpatialTransformCropper/truediv/y', 'PatchExtract/SpatialTransformCropper/truediv', 'PatchExtract/SpatialTransformCropper/mul_2/y', 'PatchExtract/SpatialTransformCropper/mul_2', 'PatchExtract/SpatialTransformCropper/truediv_1/y', 'PatchExtract/SpatialTransformCropper/truediv_1', 'PatchExtract/SpatialTransformCropper/Slice_4/begin', 'PatchExtract/SpatialTransformCropper/Slice_4/size', 'PatchExtract/SpatialTransformCropper/Slice_4', 'PatchExtract/SpatialTransformCropper/ExpandDims_1/dim', 'PatchExtract/SpatialTransformCropper/ExpandDims_1', 'PatchExtract/SpatialTransformCropper/Slice_5/begin', 'PatchExtract/SpatialTransformCropper/Slice_5/size', 'PatchExtract/SpatialTransformCropper/Slice_5', 'PatchExtract/SpatialTransformCropper/ExpandDims_2/dim', 'PatchExtract/SpatialTransformCropper/ExpandDims_2', 'PatchExtract/SpatialTransformCropper/add', 'PatchExtract/SpatialTransformCropper/add_1', 'PatchExtract/SpatialTransformCropper/Reshape_3/shape', 'PatchExtract/SpatialTransformCropper/Reshape_3', 'PatchExtract/SpatialTransformCropper/Reshape_4/shape', 'PatchExtract/SpatialTransformCropper/Reshape_4', 'PatchExtract/SpatialTransformCropper/Floor', 'PatchExtract/SpatialTransformCropper/Cast_2', 'PatchExtract/SpatialTransformCropper/add_2/y', 'PatchExtract/SpatialTransformCropper/add_2', 'PatchExtract/SpatialTransformCropper/Floor_1', 'PatchExtract/SpatialTransformCropper/Cast_3', 'PatchExtract/SpatialTransformCropper/add_3/y', 'PatchExtract/SpatialTransformCropper/add_3', 'PatchExtract/SpatialTransformCropper/clip_by_value', 'PatchExtract/SpatialTransformCropper/clip_by_value_1', 'PatchExtract/SpatialTransformCropper/clip_by_value_2', 'PatchExtract/SpatialTransformCropper/clip_by_value_3', 'PatchExtract/SpatialTransformCropper/mul_3', 'PatchExtract/SpatialTransformCropper/strided_slice_9/stack', 'PatchExtract/SpatialTransformCropper/strided_slice_9/stack_1', 'PatchExtract/SpatialTransformCropper/strided_slice_9/stack_2', 'PatchExtract/SpatialTransformCropper/strided_slice_9', 'PatchExtract/SpatialTransformCropper/Tile_3/multiples', 'PatchExtract/SpatialTransformCropper/Tile_3', 'PatchExtract/SpatialTransformCropper/Reshape_5/shape', 'PatchExtract/SpatialTransformCropper/Reshape_5', 'PatchExtract/SpatialTransformCropper/mul_4', 'PatchExtract/SpatialTransformCropper/mul_5', 'PatchExtract/SpatialTransformCropper/add_4', 'PatchExtract/SpatialTransformCropper/mul_6', 'PatchExtract/SpatialTransformCropper/add_5', 'PatchExtract/SpatialTransformCropper/add_6', 'PatchExtract/SpatialTransformCropper/add_7', 'PatchExtract/SpatialTransformCropper/add_8', 'PatchExtract/SpatialTransformCropper/add_9', 'PatchExtract/SpatialTransformCropper/stack_2/0', 'PatchExtract/SpatialTransformCropper/stack_2', 'PatchExtract/SpatialTransformCropper/Reshape_6', 'PatchExtract/SpatialTransformCropper/GatherV2/axis', 'PatchExtract/SpatialTransformCropper/GatherV2', 'PatchExtract/SpatialTransformCropper/GatherV2_1/axis', 'PatchExtract/SpatialTransformCropper/GatherV2_1', 'PatchExtract/SpatialTransformCropper/GatherV2_2/axis', 'PatchExtract/SpatialTransformCropper/GatherV2_2', 'PatchExtract/SpatialTransformCropper/GatherV2_3/axis', 'PatchExtract/SpatialTransformCropper/GatherV2_3', 'PatchExtract/SpatialTransformCropper/Cast_5', 'PatchExtract/SpatialTransformCropper/Cast_6', 'PatchExtract/SpatialTransformCropper/Cast_7', 'PatchExtract/SpatialTransformCropper/Cast_8', 'PatchExtract/SpatialTransformCropper/sub_2', 'PatchExtract/SpatialTransformCropper/sub_3', 'PatchExtract/SpatialTransformCropper/mul_7', 'PatchExtract/SpatialTransformCropper/ExpandDims_3/dim', 'PatchExtract/SpatialTransformCropper/ExpandDims_3', 'PatchExtract/SpatialTransformCropper/sub_4', 'PatchExtract/SpatialTransformCropper/sub_5', 'PatchExtract/SpatialTransformCropper/mul_8', 'PatchExtract/SpatialTransformCropper/ExpandDims_4/dim', 'PatchExtract/SpatialTransformCropper/ExpandDims_4', 'PatchExtract/SpatialTransformCropper/sub_6', 'PatchExtract/SpatialTransformCropper/sub_7', 'PatchExtract/SpatialTransformCropper/mul_9', 'PatchExtract/SpatialTransformCropper/ExpandDims_5/dim', 'PatchExtract/SpatialTransformCropper/ExpandDims_5', 'PatchExtract/SpatialTransformCropper/sub_8', 'PatchExtract/SpatialTransformCropper/sub_9', 'PatchExtract/SpatialTransformCropper/mul_10', 'PatchExtract/SpatialTransformCropper/ExpandDims_6/dim', 'PatchExtract/SpatialTransformCropper/ExpandDims_6', 'PatchExtract/SpatialTransformCropper/mul_11', 'PatchExtract/SpatialTransformCropper/mul_12', 'PatchExtract/SpatialTransformCropper/mul_13', 'PatchExtract/SpatialTransformCropper/mul_14', 'PatchExtract/SpatialTransformCropper/AddN', 'PatchExtract/SpatialTransformCropper/stack_3/1', 'PatchExtract/SpatialTransformCropper/stack_3/2', 'PatchExtract/SpatialTransformCropper/stack_3', 'PatchExtract/SpatialTransformCropper/Reshape_7', 'SimpleDesc/conv1/weights/Initializer/random_uniform/shape', 'SimpleDesc/conv1/weights/Initializer/random_uniform/min', 'SimpleDesc/conv1/weights/Initializer/random_uniform/max', 'SimpleDesc/conv1/weights/Initializer/random_uniform/RandomUniform', 'SimpleDesc/conv1/weights/Initializer/random_uniform/sub', 'SimpleDesc/conv1/weights/Initializer/random_uniform/mul', 'SimpleDesc/conv1/weights/Initializer/random_uniform', 'SimpleDesc/conv1/weights', 'SimpleDesc/conv1/weights/Assign', 'SimpleDesc/conv1/weights/read', 'SimpleDesc/conv1/biases/Initializer/zeros', 'SimpleDesc/conv1/biases', 'SimpleDesc/conv1/biases/Assign', 'SimpleDesc/conv1/biases/read', 'DeepDesc/SimpleDesc/conv1/weights/tag', 'DeepDesc/SimpleDesc/conv1/weights', 'DeepDesc/SimpleDesc/conv1/biases/tag', 'DeepDesc/SimpleDesc/conv1/biases', 'DeepDesc/SimpleDesc/conv1/Conv2D', 'DeepDesc/SimpleDesc/conv1/BiasAdd', 'SimpleDesc/bn1/gamma/Initializer/ones', 'SimpleDesc/bn1/gamma', 'SimpleDesc/bn1/gamma/Assign', 'SimpleDesc/bn1/gamma/read', 'SimpleDesc/bn1/beta/Initializer/zeros', 'SimpleDesc/bn1/beta', 'SimpleDesc/bn1/beta/Assign', 'SimpleDesc/bn1/beta/read', 'SimpleDesc/bn1/moving_mean/Initializer/zeros', 'SimpleDesc/bn1/moving_mean', 'SimpleDesc/bn1/moving_mean/Assign', 'SimpleDesc/bn1/moving_mean/read', 'SimpleDesc/bn1/moving_variance/Initializer/ones', 'SimpleDesc/bn1/moving_variance', 'SimpleDesc/bn1/moving_variance/Assign', 'SimpleDesc/bn1/moving_variance/read', 'DeepDesc/SimpleDesc/bn1/FusedBatchNorm', 'DeepDesc/SimpleDesc/bn1/Const', 'DeepDesc/SimpleDesc/Relu', 'SimpleDesc/conv2/weights/Initializer/random_uniform/shape', 'SimpleDesc/conv2/weights/Initializer/random_uniform/min', 'SimpleDesc/conv2/weights/Initializer/random_uniform/max', 'SimpleDesc/conv2/weights/Initializer/random_uniform/RandomUniform', 'SimpleDesc/conv2/weights/Initializer/random_uniform/sub', 'SimpleDesc/conv2/weights/Initializer/random_uniform/mul', 'SimpleDesc/conv2/weights/Initializer/random_uniform', 'SimpleDesc/conv2/weights', 'SimpleDesc/conv2/weights/Assign', 'SimpleDesc/conv2/weights/read', 'SimpleDesc/conv2/biases/Initializer/zeros', 'SimpleDesc/conv2/biases', 'SimpleDesc/conv2/biases/Assign', 'SimpleDesc/conv2/biases/read', 'DeepDesc/SimpleDesc/conv2/weights/tag', 'DeepDesc/SimpleDesc/conv2/weights', 'DeepDesc/SimpleDesc/conv2/biases/tag', 'DeepDesc/SimpleDesc/conv2/biases', 'DeepDesc/SimpleDesc/conv2/Conv2D', 'DeepDesc/SimpleDesc/conv2/BiasAdd', 'SimpleDesc/bn2/gamma/Initializer/ones', 'SimpleDesc/bn2/gamma', 'SimpleDesc/bn2/gamma/Assign', 'SimpleDesc/bn2/gamma/read', 'SimpleDesc/bn2/beta/Initializer/zeros', 'SimpleDesc/bn2/beta', 'SimpleDesc/bn2/beta/Assign', 'SimpleDesc/bn2/beta/read', 'SimpleDesc/bn2/moving_mean/Initializer/zeros', 'SimpleDesc/bn2/moving_mean', 'SimpleDesc/bn2/moving_mean/Assign', 'SimpleDesc/bn2/moving_mean/read', 'SimpleDesc/bn2/moving_variance/Initializer/ones', 'SimpleDesc/bn2/moving_variance', 'SimpleDesc/bn2/moving_variance/Assign', 'SimpleDesc/bn2/moving_variance/read', 'DeepDesc/SimpleDesc/bn2/FusedBatchNorm', 'DeepDesc/SimpleDesc/bn2/Const', 'DeepDesc/SimpleDesc/Relu_1', 'SimpleDesc/conv3/weights/Initializer/random_uniform/shape', 'SimpleDesc/conv3/weights/Initializer/random_uniform/min', 'SimpleDesc/conv3/weights/Initializer/random_uniform/max', 'SimpleDesc/conv3/weights/Initializer/random_uniform/RandomUniform', 'SimpleDesc/conv3/weights/Initializer/random_uniform/sub', 'SimpleDesc/conv3/weights/Initializer/random_uniform/mul', 'SimpleDesc/conv3/weights/Initializer/random_uniform', 'SimpleDesc/conv3/weights', 'SimpleDesc/conv3/weights/Assign', 'SimpleDesc/conv3/weights/read', 'SimpleDesc/conv3/biases/Initializer/zeros', 'SimpleDesc/conv3/biases', 'SimpleDesc/conv3/biases/Assign', 'SimpleDesc/conv3/biases/read', 'DeepDesc/SimpleDesc/conv3/weights/tag', 'DeepDesc/SimpleDesc/conv3/weights', 'DeepDesc/SimpleDesc/conv3/biases/tag', 'DeepDesc/SimpleDesc/conv3/biases', 'DeepDesc/SimpleDesc/conv3/Conv2D', 'DeepDesc/SimpleDesc/conv3/BiasAdd', 'SimpleDesc/bn3/gamma/Initializer/ones', 'SimpleDesc/bn3/gamma', 'SimpleDesc/bn3/gamma/Assign', 'SimpleDesc/bn3/gamma/read', 'SimpleDesc/bn3/beta/Initializer/zeros', 'SimpleDesc/bn3/beta', 'SimpleDesc/bn3/beta/Assign', 'SimpleDesc/bn3/beta/read', 'SimpleDesc/bn3/moving_mean/Initializer/zeros', 'SimpleDesc/bn3/moving_mean', 'SimpleDesc/bn3/moving_mean/Assign', 'SimpleDesc/bn3/moving_mean/read', 'SimpleDesc/bn3/moving_variance/Initializer/ones', 'SimpleDesc/bn3/moving_variance', 'SimpleDesc/bn3/moving_variance/Assign', 'SimpleDesc/bn3/moving_variance/read', 'DeepDesc/SimpleDesc/bn3/FusedBatchNorm', 'DeepDesc/SimpleDesc/bn3/Const', 'DeepDesc/SimpleDesc/Relu_2', 'DeepDesc/SimpleDesc/flatten/Shape', 'DeepDesc/SimpleDesc/flatten/strided_slice/stack', 'DeepDesc/SimpleDesc/flatten/strided_slice/stack_1', 'DeepDesc/SimpleDesc/flatten/strided_slice/stack_2', 'DeepDesc/SimpleDesc/flatten/strided_slice', 'DeepDesc/SimpleDesc/flatten/Reshape/shape/1', 'DeepDesc/SimpleDesc/flatten/Reshape/shape', 'DeepDesc/SimpleDesc/flatten/Reshape', 'SimpleDesc/fc1/weights/Initializer/random_uniform/shape', 'SimpleDesc/fc1/weights/Initializer/random_uniform/min', 'SimpleDesc/fc1/weights/Initializer/random_uniform/max', 'SimpleDesc/fc1/weights/Initializer/random_uniform/RandomUniform', 'SimpleDesc/fc1/weights/Initializer/random_uniform/sub', 'SimpleDesc/fc1/weights/Initializer/random_uniform/mul', 'SimpleDesc/fc1/weights/Initializer/random_uniform', 'SimpleDesc/fc1/weights', 'SimpleDesc/fc1/weights/Assign', 'SimpleDesc/fc1/weights/read', 'SimpleDesc/fc1/biases/Initializer/zeros', 'SimpleDesc/fc1/biases', 'SimpleDesc/fc1/biases/Assign', 'SimpleDesc/fc1/biases/read', 'DeepDesc/SimpleDesc/fc1/weights/tag', 'DeepDesc/SimpleDesc/fc1/weights', 'DeepDesc/SimpleDesc/fc1/biases/tag', 'DeepDesc/SimpleDesc/fc1/biases', 'DeepDesc/SimpleDesc/fc1/MatMul', 'DeepDesc/SimpleDesc/fc1/BiasAdd', 'SimpleDesc/fc-bn1/gamma/Initializer/ones', 'SimpleDesc/fc-bn1/gamma', 'SimpleDesc/fc-bn1/gamma/Assign', 'SimpleDesc/fc-bn1/gamma/read', 'SimpleDesc/fc-bn1/beta/Initializer/zeros', 'SimpleDesc/fc-bn1/beta', 'SimpleDesc/fc-bn1/beta/Assign', 'SimpleDesc/fc-bn1/beta/read', 'SimpleDesc/fc-bn1/moving_mean/Initializer/zeros', 'SimpleDesc/fc-bn1/moving_mean', 'SimpleDesc/fc-bn1/moving_mean/Assign', 'SimpleDesc/fc-bn1/moving_mean/read', 'SimpleDesc/fc-bn1/moving_variance/Initializer/ones', 'SimpleDesc/fc-bn1/moving_variance', 'SimpleDesc/fc-bn1/moving_variance/Assign', 'SimpleDesc/fc-bn1/moving_variance/read', 'DeepDesc/SimpleDesc/fc-bn1/moments/mean/reduction_indices', 'DeepDesc/SimpleDesc/fc-bn1/moments/mean', 'DeepDesc/SimpleDesc/fc-bn1/moments/StopGradient', 'DeepDesc/SimpleDesc/fc-bn1/moments/SquaredDifference', 'DeepDesc/SimpleDesc/fc-bn1/moments/variance/reduction_indices', 'DeepDesc/SimpleDesc/fc-bn1/moments/variance', 'DeepDesc/SimpleDesc/fc-bn1/moments/Squeeze', 'DeepDesc/SimpleDesc/fc-bn1/moments/Squeeze_1', 'DeepDesc/SimpleDesc/fc-bn1/batchnorm/add/y', 'DeepDesc/SimpleDesc/fc-bn1/batchnorm/add', 'DeepDesc/SimpleDesc/fc-bn1/batchnorm/Rsqrt', 'DeepDesc/SimpleDesc/fc-bn1/batchnorm/mul', 'DeepDesc/SimpleDesc/fc-bn1/batchnorm/mul_1', 'DeepDesc/SimpleDesc/fc-bn1/batchnorm/mul_2', 'DeepDesc/SimpleDesc/fc-bn1/batchnorm/sub', 'DeepDesc/SimpleDesc/fc-bn1/batchnorm/add_1', 'DeepDesc/SimpleDesc/Relu_3', 'SimpleDesc/fc2/weights/Initializer/random_uniform/shape', 'SimpleDesc/fc2/weights/Initializer/random_uniform/min', 'SimpleDesc/fc2/weights/Initializer/random_uniform/max', 'SimpleDesc/fc2/weights/Initializer/random_uniform/RandomUniform', 'SimpleDesc/fc2/weights/Initializer/random_uniform/sub', 'SimpleDesc/fc2/weights/Initializer/random_uniform/mul', 'SimpleDesc/fc2/weights/Initializer/random_uniform', 'SimpleDesc/fc2/weights', 'SimpleDesc/fc2/weights/Assign', 'SimpleDesc/fc2/weights/read', 'SimpleDesc/fc2/biases/Initializer/zeros', 'SimpleDesc/fc2/biases', 'SimpleDesc/fc2/biases/Assign', 'SimpleDesc/fc2/biases/read', 'DeepDesc/SimpleDesc/fc2/weights/tag', 'DeepDesc/SimpleDesc/fc2/weights', 'DeepDesc/SimpleDesc/fc2/biases/tag', 'DeepDesc/SimpleDesc/fc2/biases', 'DeepDesc/SimpleDesc/fc2/MatMul', 'DeepDesc/SimpleDesc/fc2/BiasAdd', 'DeepDesc/SimpleDesc/l2_normalize/Square', 'DeepDesc/SimpleDesc/l2_normalize/Sum/reduction_indices', 'DeepDesc/SimpleDesc/l2_normalize/Sum', 'DeepDesc/SimpleDesc/l2_normalize/Maximum/y', 'DeepDesc/SimpleDesc/l2_normalize/Maximum', 'DeepDesc/SimpleDesc/l2_normalize/Rsqrt', 'DeepDesc/SimpleDesc/l2_normalize', 'Slice/begin', 'Slice/size', 'Slice', 'Slice_1/begin', 'Slice_1/size', 'Slice_1', 'Atan2', 'Const_1', 'mul/y', 'mul', 'truediv/y', 'truediv', 'add/y', 'add', 'clip_by_value/clip_value_min', 'clip_by_value/clip_value_max', 'clip_by_value', 'Cast', 'strided_slice/stack', 'strided_slice/stack_1', 'strided_slice/stack_2', 'strided_slice', 'GatherV2/axis', 'GatherV2', 'strided_slice_1/stack', 'strided_slice_1/stack_1', 'strided_slice_1/stack_2', 'strided_slice_1', 'strided_slice_2/stack', 'strided_slice_2/stack_1', 'strided_slice_2/stack_2', 'strided_slice_2', 'Atan2_1', 'init', 'save/Const', 'save/SaveV2/tensor_names', 'save/SaveV2/shape_and_slices', 'save/SaveV2', 'save/control_dependency', 'save/RestoreV2/tensor_names', 'save/RestoreV2/shape_and_slices', 'save/RestoreV2', 'save/Assign', 'save/Assign_1', 'save/Assign_2', 'save/Assign_3', 'save/Assign_4', 'save/Assign_5', 'save/Assign_6', 'save/Assign_7', 'save/Assign_8', 'save/Assign_9', 'save/Assign_10', 'save/Assign_11', 'save/Assign_12', 'save/Assign_13', 'save/Assign_14', 'save/Assign_15', 'save/Assign_16', 'save/Assign_17', 'save/Assign_18', 'save/Assign_19', 'save/Assign_20', 'save/Assign_21', 'save/Assign_22', 'save/Assign_23', 'save/Assign_24', 'save/Assign_25', 'save/Assign_26', 'save/Assign_27', 'save/Assign_28', 'save/Assign_29', 'save/Assign_30', 'save/Assign_31', 'save/Assign_32', 'save/Assign_33', 'save/Assign_34', 'save/Assign_35', 'save/Assign_36', 'save/Assign_37', 'save/Assign_38', 'save/Assign_39', 'save/Assign_40', 'save/Assign_41', 'save/Assign_42', 'save/Assign_43', 'save/Assign_44', 'save/Assign_45', 'save/Assign_46', 'save/Assign_47', 'save/Assign_48', 'save/Assign_49', 'save/Assign_50', 'save/Assign_51', 'save/Assign_52', 'save/Assign_53', 'save/Assign_54', 'save/Assign_55', 'save/Assign_56', 'save/Assign_57', 'save/Assign_58', 'save/Assign_59', 'save/Assign_60', 'save/Assign_61', 'save/Assign_62', 'save/Assign_63', 'save/Assign_64', 'save/Assign_65', 'save/Assign_66', 'save/Assign_67', 'save/Assign_68', 'save/Assign_69', 'save/Assign_70', 'save/Assign_71', 'save/Assign_72', 'save/Assign_73', 'save/Assign_74', 'save/Assign_75', 'save/Assign_76', 'save/Assign_77', 'save/Assign_78', 'save/Assign_79', 'save/restore_all']\n"
     ]
    }
   ],
   "source": [
    "graph = sess.graph\n",
    "print(sess.graph.get_operations()[-1])\n",
    "print([node.name for node in graph.as_graph_def().node])"
   ]
  },
  {
   "cell_type": "markdown",
   "metadata": {},
   "source": [
    "# Ready to feed input images"
   ]
  },
  {
   "cell_type": "code",
   "execution_count": 10,
   "metadata": {
    "ExecuteTime": {
     "end_time": "2018-10-26T09:17:11.070769Z",
     "start_time": "2018-10-26T09:09:47.154194Z"
    },
    "scrolled": true
   },
   "outputs": [
    {
     "name": "stderr",
     "output_type": "stream",
     "text": [
      "\r",
      "  0%|          | 0/1362 [00:00<?, ?it/s]"
     ]
    },
    {
     "name": "stdout",
     "output_type": "stream",
     "text": [
      "Found 1362 images...\n"
     ]
    },
    {
     "name": "stderr",
     "output_type": "stream",
     "text": [
      "100%|██████████| 1362/1362 [07:23<00:00,  3.15it/s]"
     ]
    },
    {
     "name": "stdout",
     "output_type": "stream",
     "text": [
      "Done.\n"
     ]
    },
    {
     "name": "stderr",
     "output_type": "stream",
     "text": [
      "\n"
     ]
    }
   ],
   "source": [
    "img_paths = [x.path for x in os.scandir(config.in_dir) if x.name.endswith('.jpg') or x.name.endswith('.png')]\n",
    "print('Found {} images...'.format(len(img_paths)))\n",
    "\n",
    "if not os.path.exists(config.out_dir):\n",
    "    os.makedirs(config.out_dir)\n",
    "\n",
    "avg_elapsed_time = 0\n",
    "\n",
    "for img_path in tqdm(img_paths):\n",
    "    photo = imread(img_path)\n",
    "    height, width = photo.shape[:2]\n",
    "    longer_edge = max(height, width)\n",
    "    if config.max_longer_edge > 0 and longer_edge > config.max_longer_edge:\n",
    "        if height > width:\n",
    "            new_height = config.max_longer_edge\n",
    "            new_width = int(width * config.max_longer_edge / height)\n",
    "        else:\n",
    "            new_height = int(height * config.max_longer_edge / width)\n",
    "            new_width = config.max_longer_edge\n",
    "        photo = cv2.resize(photo, (new_width, new_height))\n",
    "        height, width = photo.shape[:2]\n",
    "    rgb = photo.copy()\n",
    "    if photo.ndim == 3 and photo.shape[-1] == 3:\n",
    "        photo = cv2.cvtColor(photo, cv2.COLOR_RGB2GRAY)\n",
    "    photo = photo[None,...,None].astype(np.float32) / 255.0 # normalize 0-1\n",
    "    assert photo.ndim == 4 # [1,H,W,1]\n",
    "    \n",
    "    feed_dict = {\n",
    "        photo_ph: photo,\n",
    "    }\n",
    "    if config.full_output:\n",
    "        fetch_dict = {\n",
    "            'kpts': ops['kpts'],\n",
    "            'feats': ops['feats'],\n",
    "            'kpts_scale': ops['kpts_scale'],\n",
    "            'kpts_ori': ops['kpts_ori'],\n",
    "            'scale_maps': ops['scale_maps'],\n",
    "            'degree_maps': ops['degree_maps'],\n",
    "        }\n",
    "        outs = sess.run(fetch_dict, feed_dict=feed_dict)\n",
    "        # draw key\n",
    "        kp_img = draw_keypoints(rgb, outs['kpts'])\n",
    "        scale_range = config.net_max_scale-config.net_min_scale\n",
    "        if scale_range == 0:\n",
    "            scale_range = 1.0\n",
    "        scale_img = (outs['scale_maps'][0]*255/scale_range).astype(np.uint8)\n",
    "        ori_img = (outs['degree_maps'][0]*255).astype(np.uint8)\n",
    "        out_img_path = os.path.join(config.out_dir, os.path.basename(img_path))\n",
    "        imsave(out_img_path, kp_img)\n",
    "        imsave(out_img_path+'-scl.jpg', scale_img)\n",
    "        imsave(out_img_path+'-ori.jpg', ori_img)\n",
    "        np.savez(out_img_path+'.npz', kpts=outs['kpts'], descs=outs['feats'], size=np.array([height, width]),\n",
    "                 scales=outs['kpts_scale'], oris=outs['kpts_ori'])\n",
    "    else:\n",
    "        # Dump keypoint locations and their features\n",
    "        fetch_dict = {\n",
    "            'kpts': ops['kpts'],\n",
    "            'feats': ops['feats'],\n",
    "            'kpts_ori': ops['kpts_ori'],\n",
    "            'kpts_scale': ops['kpts_scale'],\n",
    "            #'curr_in_zoe': ops['curr_in_zoe'],\n",
    "        }\n",
    "        outs = sess.run(fetch_dict, feed_dict=feed_dict)\n",
    "        out_kpts_path = os.path.join(config.out_dir, os.path.splitext(os.path.basename(img_path))[0]+'_kpts.txt')\n",
    "        out_feats_path = os.path.join(config.out_dir, os.path.splitext(os.path.basename(img_path))[0]+'_feats.txt')\n",
    "        out_kpts_ori_path = os.path.join(config.out_dir, os.path.splitext(os.path.basename(img_path))[0]+'_kpts_ori.txt')\n",
    "        out_kpts_scale_path = os.path.join(config.out_dir, os.path.splitext(os.path.basename(img_path))[0]+'_kpts_scale.txt')\n",
    "        #print(outs['curr_in_zoe'])\n",
    "        numpy.savetxt(out_kpts_path, outs['kpts'])\n",
    "        numpy.savetxt(out_feats_path, outs['feats'])\n",
    "        numpy.savetxt(out_kpts_ori_path, outs['kpts_ori']*180/np.pi+180)\n",
    "        numpy.savetxt(out_kpts_scale_path, outs['kpts_scale'])\n",
    "        #np.savez(out_path, kpts=outs['kpts'], feats=outs['feats'], size=np.array([height, width]))\n",
    "print('Done.')"
   ]
  },
  {
   "cell_type": "markdown",
   "metadata": {},
   "source": [
    "## View keypoints from dumped npz"
   ]
  },
  {
   "cell_type": "code",
   "execution_count": 11,
   "metadata": {
    "ExecuteTime": {
     "end_time": "2018-10-26T09:17:11.101995Z",
     "start_time": "2018-10-26T09:17:11.072255Z"
    }
   },
   "outputs": [
    {
     "name": "stdout",
     "output_type": "stream",
     "text": [
      "Load 500-kpts, feat=256-D imsize=640x420\n"
     ]
    }
   ],
   "source": [
    "img_name = '00204549_3820006713.jpg'\n",
    "img_path = '/home/zoe/deeplearning/lfnet/dump_feats/'+img_name\n",
    "kp_path = '/home/zoe/deeplearning/lfnet/dump_feats/{}.npz'.format(img_name)\n",
    "image = imread(img_path).astype(np.float32) / 255\n",
    "kp_info = np.load(kp_path)\n",
    "kpts = kp_info['kpts']\n",
    "feats = kp_info['descs']\n",
    "kpts_ori = kp_info['oris']\n",
    "kpts_scales = kp_info['scales']\n",
    "height, width = kp_info['size']\n",
    "image = cv2.resize(image, (width, height))\n",
    "print('Load {}-kpts, feat={}-D imsize={}x{}'.format(kpts.shape[0], feats.shape[1], width, height))"
   ]
  },
  {
   "cell_type": "code",
   "execution_count": 12,
   "metadata": {
    "ExecuteTime": {
     "end_time": "2018-10-26T09:17:11.236991Z",
     "start_time": "2018-10-26T09:17:11.105475Z"
    }
   },
   "outputs": [
    {
     "ename": "SyntaxError",
     "evalue": "invalid syntax (<ipython-input-12-354d5bb7b37d>, line 1)",
     "output_type": "error",
     "traceback": [
      "\u001b[0;36m  File \u001b[0;32m\"<ipython-input-12-354d5bb7b37d>\"\u001b[0;36m, line \u001b[0;32m1\u001b[0m\n\u001b[0;31m    [1.41421356 1.18920712 1.         0.84089642 0.70710678]\u001b[0m\n\u001b[0m                         ^\u001b[0m\n\u001b[0;31mSyntaxError\u001b[0m\u001b[0;31m:\u001b[0m invalid syntax\n"
     ]
    }
   ],
   "source": [
    "[1.41421356 1.18920712 1.         0.84089642 0.70710678]"
   ]
  },
  {
   "cell_type": "code",
   "execution_count": null,
   "metadata": {
    "ExecuteTime": {
     "end_time": "2018-10-26T09:17:11.238453Z",
     "start_time": "2018-10-26T09:09:42.195Z"
    }
   },
   "outputs": [],
   "source": [
    "print(kpts_scales)"
   ]
  },
  {
   "cell_type": "code",
   "execution_count": null,
   "metadata": {
    "ExecuteTime": {
     "end_time": "2018-10-26T09:17:11.240231Z",
     "start_time": "2018-10-26T09:09:42.197Z"
    }
   },
   "outputs": [],
   "source": [
    "plt.imshow(image)\n",
    "plt.plot(\n",
    "    kpts[:,0], kpts[:,1],\n",
    "    alpha=1,\n",
    "    linestyle='none',\n",
    "    linewidth=0,\n",
    "    aa=False,\n",
    "    marker='.',\n",
    "    markersize=2,\n",
    "    color=[0.9, 0.1, 0.1],\n",
    ");"
   ]
  }
 ],
 "metadata": {
  "kernelspec": {
   "display_name": "Python 3",
   "language": "python",
   "name": "python3"
  },
  "language_info": {
   "codemirror_mode": {
    "name": "ipython",
    "version": 3
   },
   "file_extension": ".py",
   "mimetype": "text/x-python",
   "name": "python",
   "nbconvert_exporter": "python",
   "pygments_lexer": "ipython3",
   "version": "3.5.2"
  },
  "toc": {
   "base_numbering": 1,
   "nav_menu": {},
   "number_sections": true,
   "sideBar": true,
   "skip_h1_title": false,
   "title_cell": "Table of Contents",
   "title_sidebar": "Contents",
   "toc_cell": false,
   "toc_position": {},
   "toc_section_display": true,
   "toc_window_display": false
  },
  "varInspector": {
   "cols": {
    "lenName": 16,
    "lenType": 16,
    "lenVar": 40
   },
   "kernels_config": {
    "python": {
     "delete_cmd_postfix": "",
     "delete_cmd_prefix": "del ",
     "library": "var_list.py",
     "varRefreshCmd": "print(var_dic_list())"
    },
    "r": {
     "delete_cmd_postfix": ") ",
     "delete_cmd_prefix": "rm(",
     "library": "var_list.r",
     "varRefreshCmd": "cat(var_dic_list()) "
    }
   },
   "types_to_exclude": [
    "module",
    "function",
    "builtin_function_or_method",
    "instance",
    "_Feature"
   ],
   "window_display": false
  }
 },
 "nbformat": 4,
 "nbformat_minor": 2
}
